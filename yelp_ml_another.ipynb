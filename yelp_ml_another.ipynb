{
 "cells": [
  {
   "cell_type": "code",
   "execution_count": 1,
   "metadata": {},
   "outputs": [],
   "source": [
    "import pandas as pd\n",
    "df = pd.read_csv(\"yelp_ml_master.csv\")"
   ]
  },
  {
   "cell_type": "code",
   "execution_count": 2,
   "metadata": {},
   "outputs": [],
   "source": [
    "import numpy as np\n",
    "import ast\n",
    "df['hours'] = df['hours'].apply(lambda x: ast.literal_eval(x) if isinstance(x, str) and x.startswith('{') and x.endswith('}') else x)"
   ]
  },
  {
   "cell_type": "code",
   "execution_count": 3,
   "metadata": {},
   "outputs": [],
   "source": [
    "df['attributes'] = df['attributes'].apply(lambda x: ast.literal_eval(x) if isinstance(x, str) and x.startswith('{') and x.endswith('}') else x)"
   ]
  },
  {
   "cell_type": "code",
   "execution_count": 4,
   "metadata": {},
   "outputs": [],
   "source": [
    "def time_to_minutes(time_str):\n",
    "    # Split the time string into hours and minutes\n",
    "    hours, minutes = map(int, time_str.split(':'))\n",
    "    # Convert hours to minutes and add to minutes\n",
    "    return hours * 60 + minutes\n"
   ]
  },
  {
   "cell_type": "code",
   "execution_count": 5,
   "metadata": {},
   "outputs": [],
   "source": [
    "def get_average_time(row):\n",
    "    hours = row['hours']\n",
    "    total_time = []\n",
    "    for day, hour in hours.items():\n",
    "        str_list = hour.split('-')\n",
    "        time = time_to_minutes(str_list[1]) - time_to_minutes(str_list[0])\n",
    "        if time < 0:\n",
    "            time = time_to_minutes(str_list[1]) + 24 * 60 - time_to_minutes(str_list[0])\n",
    "        if time > 0 : total_time.append(time)\n",
    "    return np.mean(total_time)"
   ]
  },
  {
   "cell_type": "code",
   "execution_count": 6,
   "metadata": {},
   "outputs": [],
   "source": [
    "df = df.dropna()"
   ]
  },
  {
   "cell_type": "code",
   "execution_count": 7,
   "metadata": {},
   "outputs": [
    {
     "name": "stderr",
     "output_type": "stream",
     "text": [
      "/Users/sherryyang/anaconda3/envs/cse481/lib/python3.10/site-packages/numpy/core/fromnumeric.py:3504: RuntimeWarning: Mean of empty slice.\n",
      "  return _methods._mean(a, axis=axis, dtype=dtype,\n",
      "/Users/sherryyang/anaconda3/envs/cse481/lib/python3.10/site-packages/numpy/core/_methods.py:129: RuntimeWarning: invalid value encountered in scalar divide\n",
      "  ret = ret.dtype.type(ret / rcount)\n"
     ]
    }
   ],
   "source": [
    "df['mean_time'] = df.apply(get_average_time, axis=1)"
   ]
  },
  {
   "cell_type": "code",
   "execution_count": 8,
   "metadata": {},
   "outputs": [
    {
     "data": {
      "text/html": [
       "<div>\n",
       "<style scoped>\n",
       "    .dataframe tbody tr th:only-of-type {\n",
       "        vertical-align: middle;\n",
       "    }\n",
       "\n",
       "    .dataframe tbody tr th {\n",
       "        vertical-align: top;\n",
       "    }\n",
       "\n",
       "    .dataframe thead th {\n",
       "        text-align: right;\n",
       "    }\n",
       "</style>\n",
       "<table border=\"1\" class=\"dataframe\">\n",
       "  <thead>\n",
       "    <tr style=\"text-align: right;\">\n",
       "      <th></th>\n",
       "      <th>name</th>\n",
       "      <th>count</th>\n",
       "    </tr>\n",
       "  </thead>\n",
       "  <tbody>\n",
       "    <tr>\n",
       "      <th>0</th>\n",
       "      <td>\"Genuino\" Italian Cafe'</td>\n",
       "      <td>1</td>\n",
       "    </tr>\n",
       "    <tr>\n",
       "      <th>19439</th>\n",
       "      <td>Pho Cam Ly</td>\n",
       "      <td>1</td>\n",
       "    </tr>\n",
       "    <tr>\n",
       "      <th>19438</th>\n",
       "      <td>Pho Cali Vietnamese Restaurant</td>\n",
       "      <td>1</td>\n",
       "    </tr>\n",
       "    <tr>\n",
       "      <th>19436</th>\n",
       "      <td>Pho Cafe Hong Kong Diner</td>\n",
       "      <td>1</td>\n",
       "    </tr>\n",
       "    <tr>\n",
       "      <th>19435</th>\n",
       "      <td>Pho Bowl - Palm Harbor</td>\n",
       "      <td>1</td>\n",
       "    </tr>\n",
       "    <tr>\n",
       "      <th>...</th>\n",
       "      <td>...</td>\n",
       "      <td>...</td>\n",
       "    </tr>\n",
       "    <tr>\n",
       "      <th>28809</th>\n",
       "      <td>Wendy's</td>\n",
       "      <td>304</td>\n",
       "    </tr>\n",
       "    <tr>\n",
       "      <th>3681</th>\n",
       "      <td>Burger King</td>\n",
       "      <td>310</td>\n",
       "    </tr>\n",
       "    <tr>\n",
       "      <th>24561</th>\n",
       "      <td>Taco Bell</td>\n",
       "      <td>352</td>\n",
       "    </tr>\n",
       "    <tr>\n",
       "      <th>24035</th>\n",
       "      <td>Subway</td>\n",
       "      <td>405</td>\n",
       "    </tr>\n",
       "    <tr>\n",
       "      <th>15998</th>\n",
       "      <td>McDonald's</td>\n",
       "      <td>639</td>\n",
       "    </tr>\n",
       "  </tbody>\n",
       "</table>\n",
       "<p>29795 rows × 2 columns</p>\n",
       "</div>"
      ],
      "text/plain": [
       "                                 name  count\n",
       "0             \"Genuino\" Italian Cafe'      1\n",
       "19439                      Pho Cam Ly      1\n",
       "19438  Pho Cali Vietnamese Restaurant      1\n",
       "19436        Pho Cafe Hong Kong Diner      1\n",
       "19435          Pho Bowl - Palm Harbor      1\n",
       "...                               ...    ...\n",
       "28809                         Wendy's    304\n",
       "3681                      Burger King    310\n",
       "24561                       Taco Bell    352\n",
       "24035                          Subway    405\n",
       "15998                      McDonald's    639\n",
       "\n",
       "[29795 rows x 2 columns]"
      ]
     },
     "execution_count": 8,
     "metadata": {},
     "output_type": "execute_result"
    }
   ],
   "source": [
    "brand_counts = df.groupby(['name']).size().reset_index(name='count')\n",
    "brand_counts.sort_values('count')"
   ]
  },
  {
   "cell_type": "code",
   "execution_count": 9,
   "metadata": {},
   "outputs": [],
   "source": [
    "df = df.merge(brand_counts, on = 'name')"
   ]
  },
  {
   "cell_type": "code",
   "execution_count": 10,
   "metadata": {},
   "outputs": [],
   "source": [
    "import pandas as pd\n",
    "import ast\n",
    "\n",
    "# Assuming 'df' is your DataFrame and it has a 'stars_y' column for ratings\n",
    "\n",
    "# Define a function to safely convert stringified lists to actual lists\n",
    "def string_to_list(string_list):\n",
    "    try:\n",
    "        return ast.literal_eval(string_list)\n",
    "    except ValueError:\n",
    "        # In case of an error, return an empty list\n",
    "        return []\n",
    "    except SyntaxError:\n",
    "        # Handle strings that are not in list format (e.g., single quotes missing)\n",
    "        return [string_list.strip(\"[]\").replace(\"'\", \"\").split(\", \")]\n",
    "\n",
    "# Apply the function to the entire 'categories_list' column\n",
    "df['categories_list'] = df['categories_list'].apply(string_to_list)"
   ]
  },
  {
   "cell_type": "code",
   "execution_count": 11,
   "metadata": {},
   "outputs": [],
   "source": [
    "\n",
    "# Now, you can explode the 'categories_list' column\n",
    "exploded_df = df.explode('categories_list')\n",
    "\n",
    "# Group by the individual categories and calculate the mean rating and count\n",
    "category_stats = exploded_df.groupby('categories_list')['stars_y'].agg(['mean', 'count'])\n",
    "\n",
    "# Convert the Series with multi-level columns to a DataFrame if needed\n",
    "category_stats_df = category_stats.reset_index()\n",
    "\n",
    "# Rename columns for clarity\n",
    "category_stats_df.columns = ['Category', 'AverageRating', 'Count']"
   ]
  },
  {
   "cell_type": "code",
   "execution_count": 12,
   "metadata": {},
   "outputs": [],
   "source": [
    "category_stats_df = category_stats_df[~category_stats_df['Category'].isin(['Restaurants', 'Restaurants\t', 'Food'])]\n",
    "category_stats_df = category_stats_df[~category_stats_df['Category'].str.strip().isin(['Restaurants', 'Food'])]"
   ]
  },
  {
   "cell_type": "code",
   "execution_count": 13,
   "metadata": {},
   "outputs": [],
   "source": [
    "category_stats_df = category_stats_df.sort_values('Count')\n",
    "category_stats_df = category_stats_df.tail(32)"
   ]
  },
  {
   "cell_type": "code",
   "execution_count": 14,
   "metadata": {},
   "outputs": [],
   "source": [
    "selected_category = list(category_stats_df['Category'])"
   ]
  },
  {
   "cell_type": "code",
   "execution_count": 15,
   "metadata": {},
   "outputs": [],
   "source": [
    "attribute_set = {}\n",
    "\n",
    "for attribute in df.attributes:\n",
    "    if attribute is not None:\n",
    "        for key, value in attribute.items():\n",
    "            if key in attribute_set.keys() :\n",
    "                attribute_set[key].add(value)\n",
    "            else:\n",
    "                attribute_set[key] = set()\n",
    "                attribute_set[key].add(value)\n",
    "\n",
    "selected_attributes = []\n",
    "for key, value in attribute_set.items():\n",
    "    if len(value) <= 3 and 'True' in value:\n",
    "        selected_attributes.append(key)"
   ]
  },
  {
   "cell_type": "code",
   "execution_count": 16,
   "metadata": {},
   "outputs": [
    {
     "data": {
      "text/plain": [
       "['RestaurantsDelivery',\n",
       " 'OutdoorSeating',\n",
       " 'BusinessAcceptsCreditCards',\n",
       " 'BikeParking',\n",
       " 'RestaurantsTakeOut',\n",
       " 'ByAppointmentOnly',\n",
       " 'Caters',\n",
       " 'RestaurantsReservations',\n",
       " 'GoodForKids',\n",
       " 'CoatCheck',\n",
       " 'DogsAllowed',\n",
       " 'RestaurantsTableService',\n",
       " 'RestaurantsGoodForGroups',\n",
       " 'WheelchairAccessible',\n",
       " 'HasTV',\n",
       " 'HappyHour',\n",
       " 'DriveThru',\n",
       " 'BusinessAcceptsBitcoin',\n",
       " 'Corkage',\n",
       " 'GoodForDancing',\n",
       " 'BYOB',\n",
       " 'Open24Hours',\n",
       " 'RestaurantsCounterService',\n",
       " 'AcceptsInsurance']"
      ]
     },
     "execution_count": 16,
     "metadata": {},
     "output_type": "execute_result"
    }
   ],
   "source": [
    "selected_attributes "
   ]
  },
  {
   "cell_type": "code",
   "execution_count": 17,
   "metadata": {},
   "outputs": [],
   "source": [
    "import pandas as pd\n",
    "\n",
    "# Function to process a single row's attribute dictionary\n",
    "def process_attributes(attr_dict):\n",
    "    # Initialize the array with -1\n",
    "    attr_array = [0] * len(selected_attributes)\n",
    "    if attr_dict is None:\n",
    "        return attr_array\n",
    "    \n",
    "    for i, attr in enumerate(selected_attributes):\n",
    "        if attr in attr_dict:\n",
    "            attr_array[i] = 1 if attr_dict[attr] == 'True' else 0\n",
    "    \n",
    "    return attr_array\n",
    "\n",
    "# Apply the function to each row\n",
    "df['attribute_array'] = df['attributes'].apply(process_attributes)\n",
    "\n",
    "# Now df['attribute_array'] contains the desired arrays for each row"
   ]
  },
  {
   "cell_type": "code",
   "execution_count": 18,
   "metadata": {},
   "outputs": [],
   "source": [
    "import pandas as pd\n",
    "\n",
    "# Function to process a single row's attribute dictionary\n",
    "def process_attributes(attr_dict):\n",
    "    # Initialize the array with -1\n",
    "    attr_array = [0] * len(selected_attributes)\n",
    "    if attr_dict is None:\n",
    "        return attr_array\n",
    "    \n",
    "    for i, attr in enumerate(selected_attributes):\n",
    "        if attr in attr_dict:\n",
    "            attr_array[i] = 1 if attr_dict[attr] == 'True' else 0\n",
    "    \n",
    "    return attr_array\n",
    "\n",
    "# Apply the function to each row\n",
    "df['attribute_array'] = df['attributes'].apply(process_attributes)"
   ]
  },
  {
   "cell_type": "code",
   "execution_count": 19,
   "metadata": {},
   "outputs": [],
   "source": [
    "def process_category(c_set):\n",
    "    # Initialize the array with -1\n",
    "    attr_array = [0] * len(selected_category)\n",
    "    if c_set is None:\n",
    "        return attr_array\n",
    "    \n",
    "    for i in range(len(selected_category)):\n",
    "        if selected_category[i]  in c_set: \n",
    "            attr_array[i] = 1\n",
    "    \n",
    "    return attr_array\n",
    "\n",
    "# Apply the function to each row\n",
    "df['category_array'] = df['categories_list'].apply(process_category)"
   ]
  },
  {
   "cell_type": "code",
   "execution_count": 20,
   "metadata": {},
   "outputs": [
    {
     "data": {
      "text/plain": [
       "Index(['Unnamed: 0', 'business_id', 'name', 'address', 'city', 'state',\n",
       "       'postal_code', 'latitude', 'longitude', 'stars_x', 'review_count',\n",
       "       'is_open', 'attributes', 'categories', 'hours', 'stars_y',\n",
       "       'categories_list', 'category_counts', 'postal_counts', 'city_counts',\n",
       "       'state_counts', 'category_postal_counts', 'category_city_counts',\n",
       "       'category_state_counts', 'Zip', 'population_postal', 'density_postal',\n",
       "       'City', 'St', 'State', 'CitySt', 'County', 'Country', 'Coordinates',\n",
       "       'lat', 'long', '_merge', 'population_city', 'density_city',\n",
       "       'population_state', 'density', 'attribute_array', 'mean_time', 'count',\n",
       "       'category_array'],\n",
       "      dtype='object')"
      ]
     },
     "execution_count": 20,
     "metadata": {},
     "output_type": "execute_result"
    }
   ],
   "source": [
    "df.columns"
   ]
  },
  {
   "cell_type": "code",
   "execution_count": 21,
   "metadata": {},
   "outputs": [],
   "source": [
    "df = df.rename(columns={'count': 'brand_size'})\n",
    "df = df.rename(columns={'density': 'density_state'})"
   ]
  },
  {
   "cell_type": "code",
   "execution_count": 22,
   "metadata": {},
   "outputs": [],
   "source": [
    "cols = ['stars_y', 'stars_x', 'population_postal', 'density_postal', 'population_city', 'density_city', 'population_state', 'density_state', 'mean_time', 'brand_size', 'category_counts', 'category_array', 'attribute_array' ]"
   ]
  },
  {
   "cell_type": "code",
   "execution_count": 23,
   "metadata": {},
   "outputs": [],
   "source": [
    "df_ml = df[cols]"
   ]
  },
  {
   "cell_type": "code",
   "execution_count": 24,
   "metadata": {},
   "outputs": [],
   "source": [
    "df_ml = df_ml.dropna()"
   ]
  },
  {
   "cell_type": "code",
   "execution_count": 25,
   "metadata": {},
   "outputs": [],
   "source": [
    "cols= ['category_counts']\n",
    "for col in cols:\n",
    "    df_ml[col] = df_ml[col].apply(lambda x: [int(i) for i in ast.literal_eval(x)] if isinstance(x, str) and x.startswith('[') and x.endswith(']') else x)"
   ]
  },
  {
   "cell_type": "code",
   "execution_count": 26,
   "metadata": {},
   "outputs": [],
   "source": [
    "col_names = ['category_counts']\n",
    "\n",
    "for col_name in col_names:\n",
    "    mean_name, std_name, median_name, max_name, min_name = col_name + '_mean', col_name  + '_std', col_name  + '_median', col_name  + '_max', col_name + '_min'\n",
    "    df_ml[mean_name] = df_ml[col_name].apply(lambda counts: pd.Series(counts).mean() if len(counts) > 0 else None)\n",
    "    df_ml[std_name] = df_ml[col_name].apply(lambda counts: pd.Series(counts).std() if len(counts) > 0 else None)\n",
    "    df_ml[median_name] = df_ml[col_name].apply(lambda counts: pd.Series(counts).median() if len(counts) > 0 else None)\n",
    "    df_ml[max_name] = df_ml[col_name].apply(lambda counts: pd.Series(counts).max() if len(counts) > 0 else None)\n",
    "    df_ml[min_name] = df_ml[col_name].apply(lambda counts: pd.Series(counts).min() if len(counts) > 0 else None)"
   ]
  },
  {
   "cell_type": "code",
   "execution_count": 35,
   "metadata": {},
   "outputs": [],
   "source": [
    "df_ml = df_ml.drop(['category_counts'], axis=1)"
   ]
  },
  {
   "cell_type": "code",
   "execution_count": 31,
   "metadata": {},
   "outputs": [],
   "source": [
    "df_ml = df_ml.dropna()"
   ]
  },
  {
   "cell_type": "code",
   "execution_count": 98,
   "metadata": {},
   "outputs": [
    {
     "name": "stdout",
     "output_type": "stream",
     "text": [
      "Mean Squared Error: 0.3644121895471319\n"
     ]
    }
   ],
   "source": [
    "from sklearn.model_selection import train_test_split\n",
    "from sklearn.linear_model import LinearRegression\n",
    "from sklearn.metrics import mean_squared_error\n",
    "import numpy as np\n",
    "from sklearn.preprocessing import PolynomialFeatures\n",
    "from sklearn.preprocessing import StandardScaler\n",
    "\n",
    "# Assuming df_ml is your DataFrame and all columns are numerical\n",
    "X = df_ml.drop(['stars_x','stars_y', 'attribute_array', 'category_array'], axis=1)  # Use all columns except 'stars'\n",
    "one_hot_attribute = np.array(df_ml['attribute_array'].tolist())\n",
    "one_hot_category = np.array(df_ml['category_array'].tolist())\n",
    "\n",
    "\n",
    "X = np.concatenate([one_hot_attribute,X], axis=1)\n",
    "X = np.concatenate([one_hot_category,X], axis=1)\n",
    "\n",
    "\n",
    "y = df_ml['stars_y']\n",
    "\n",
    "# Initialize the StandardScaler\n",
    "scaler = StandardScaler()\n",
    "\n",
    "# Apply standardization to the features\n",
    "X_scaled = scaler.fit_transform(X)\n",
    "\n",
    "X_train, X_test, y_train, y_test = train_test_split(X_scaled, y, test_size=0.2, random_state=42)\n",
    "\n",
    "\n",
    "# Initialize and train the model\n",
    "model = LinearRegression()\n",
    "model.fit(X_train, y_train)\n",
    "\n",
    "# Predict and evaluate\n",
    "predictions = model.predict(X_test)\n",
    "mse = mean_squared_error(y_test, predictions)\n",
    "print(f\"Mean Squared Error: {mse}\")\n"
   ]
  },
  {
   "cell_type": "code",
   "execution_count": 116,
   "metadata": {},
   "outputs": [],
   "source": [
    "arr_name = list(df_ml.drop(['stars_x','stars_y', 'attribute_array', 'category_array'], axis=1).columns)"
   ]
  },
  {
   "cell_type": "code",
   "execution_count": 115,
   "metadata": {},
   "outputs": [],
   "source": [
    "selected_attributes_p= []\n",
    "for element in selected_attributes:\n",
    "    selected_attributes_p.append(\"[Attribute] \"+ element)\n",
    "\n",
    "selected_category_p =[]\n",
    "for element in selected_category:\n",
    "    selected_category_p.append(\"[Category] \"+ element)"
   ]
  },
  {
   "cell_type": "code",
   "execution_count": 117,
   "metadata": {},
   "outputs": [
    {
     "data": {
      "text/plain": [
       "array([-0.00077665,  0.01188925, -0.00405205, -0.00720826, -0.0515555 ,\n",
       "       -0.00966738, -0.0239332 ,  0.00874862, -0.02894874,  0.01816052,\n",
       "        0.0142323 ,  0.00880443, -0.03863019, -0.02058224, -0.00053012,\n",
       "        0.0180742 , -0.06584063, -0.01047691, -0.01299882, -0.00995282,\n",
       "        0.00680445,  0.03253294, -0.0191335 , -0.02222499, -0.03876317,\n",
       "       -0.01470662, -0.11248296, -0.02065554, -0.05728852,  0.01033083,\n",
       "        0.00339186, -0.03447463, -0.03012881,  0.01717714, -0.06629907,\n",
       "        0.05159375,  0.01513883, -0.00262227,  0.02371733, -0.03798545,\n",
       "       -0.02187337, -0.00558929,  0.0328904 ,  0.0517276 , -0.02466826,\n",
       "        0.07164255,  0.00426699, -0.03115948, -0.03605066,  0.00141443,\n",
       "        0.00626189, -0.00780115,  0.027915  , -0.00080477,  0.00506932,\n",
       "        0.00186838, -0.00761397,  0.04135065,  0.00634295, -0.03773988,\n",
       "        0.0256888 , -0.04318371, -0.16541434, -0.21140252, -0.03498036,\n",
       "       -0.05501704,  0.00976839,  0.05009806, -0.02989612])"
      ]
     },
     "execution_count": 117,
     "metadata": {},
     "output_type": "execute_result"
    }
   ],
   "source": [
    "arr_name =  selected_attributes_p + selected_category_p + arr_name\n",
    "model.coef_"
   ]
  },
  {
   "cell_type": "code",
   "execution_count": 118,
   "metadata": {},
   "outputs": [],
   "source": [
    "df_coefficients = pd.DataFrame({\n",
    "    'Feature': arr_name,\n",
    "    'Coefficient': model.coef_\n",
    "})\n"
   ]
  },
  {
   "cell_type": "code",
   "execution_count": 119,
   "metadata": {},
   "outputs": [
    {
     "data": {
      "text/html": [
       "<div>\n",
       "<style scoped>\n",
       "    .dataframe tbody tr th:only-of-type {\n",
       "        vertical-align: middle;\n",
       "    }\n",
       "\n",
       "    .dataframe tbody tr th {\n",
       "        vertical-align: top;\n",
       "    }\n",
       "\n",
       "    .dataframe thead th {\n",
       "        text-align: right;\n",
       "    }\n",
       "</style>\n",
       "<table border=\"1\" class=\"dataframe\">\n",
       "  <thead>\n",
       "    <tr style=\"text-align: right;\">\n",
       "      <th></th>\n",
       "      <th>Feature</th>\n",
       "      <th>Coefficient</th>\n",
       "    </tr>\n",
       "  </thead>\n",
       "  <tbody>\n",
       "    <tr>\n",
       "      <th>63</th>\n",
       "      <td>brand_size</td>\n",
       "      <td>-0.211403</td>\n",
       "    </tr>\n",
       "    <tr>\n",
       "      <th>62</th>\n",
       "      <td>mean_time</td>\n",
       "      <td>-0.165414</td>\n",
       "    </tr>\n",
       "    <tr>\n",
       "      <th>26</th>\n",
       "      <td>[Category]  Japanese</td>\n",
       "      <td>-0.112483</td>\n",
       "    </tr>\n",
       "    <tr>\n",
       "      <th>34</th>\n",
       "      <td>[Category] Sandwiches</td>\n",
       "      <td>-0.066299</td>\n",
       "    </tr>\n",
       "    <tr>\n",
       "      <th>16</th>\n",
       "      <td>[Attribute] DriveThru</td>\n",
       "      <td>-0.065841</td>\n",
       "    </tr>\n",
       "    <tr>\n",
       "      <th>...</th>\n",
       "      <td>...</td>\n",
       "      <td>...</td>\n",
       "    </tr>\n",
       "    <tr>\n",
       "      <th>57</th>\n",
       "      <td>density_postal</td>\n",
       "      <td>0.041351</td>\n",
       "    </tr>\n",
       "    <tr>\n",
       "      <th>67</th>\n",
       "      <td>category_counts_max</td>\n",
       "      <td>0.050098</td>\n",
       "    </tr>\n",
       "    <tr>\n",
       "      <th>35</th>\n",
       "      <td>[Category]  Caterers</td>\n",
       "      <td>0.051594</td>\n",
       "    </tr>\n",
       "    <tr>\n",
       "      <th>43</th>\n",
       "      <td>[Category]  Seafood</td>\n",
       "      <td>0.051728</td>\n",
       "    </tr>\n",
       "    <tr>\n",
       "      <th>45</th>\n",
       "      <td>[Category]  Coffee &amp; Tea</td>\n",
       "      <td>0.071643</td>\n",
       "    </tr>\n",
       "  </tbody>\n",
       "</table>\n",
       "<p>69 rows × 2 columns</p>\n",
       "</div>"
      ],
      "text/plain": [
       "                     Feature  Coefficient\n",
       "63                brand_size    -0.211403\n",
       "62                 mean_time    -0.165414\n",
       "26      [Category]  Japanese    -0.112483\n",
       "34     [Category] Sandwiches    -0.066299\n",
       "16     [Attribute] DriveThru    -0.065841\n",
       "..                       ...          ...\n",
       "57            density_postal     0.041351\n",
       "67       category_counts_max     0.050098\n",
       "35      [Category]  Caterers     0.051594\n",
       "43       [Category]  Seafood     0.051728\n",
       "45  [Category]  Coffee & Tea     0.071643\n",
       "\n",
       "[69 rows x 2 columns]"
      ]
     },
     "execution_count": 119,
     "metadata": {},
     "output_type": "execute_result"
    }
   ],
   "source": [
    "df_coefficients.sort_values('Coefficient')"
   ]
  },
  {
   "cell_type": "code",
   "execution_count": 120,
   "metadata": {},
   "outputs": [],
   "source": [
    "df_coefficients.to_csv(\"ml_coeff.csv\")"
   ]
  },
  {
   "cell_type": "code",
   "execution_count": 99,
   "metadata": {},
   "outputs": [
    {
     "data": {
      "text/plain": [
       "['population_postal',\n",
       " 'density_postal',\n",
       " 'population_city',\n",
       " 'density_city',\n",
       " 'population_state',\n",
       " 'density_state',\n",
       " 'mean_time',\n",
       " 'brand_size',\n",
       " 'category_counts_mean',\n",
       " 'category_counts_std',\n",
       " 'category_counts_median',\n",
       " 'category_counts_max',\n",
       " 'category_counts_min',\n",
       " 'RestaurantsDelivery',\n",
       " 'OutdoorSeating',\n",
       " 'BusinessAcceptsCreditCards',\n",
       " 'BikeParking',\n",
       " 'RestaurantsTakeOut',\n",
       " 'ByAppointmentOnly',\n",
       " 'Caters',\n",
       " 'RestaurantsReservations',\n",
       " 'GoodForKids',\n",
       " 'CoatCheck',\n",
       " 'DogsAllowed',\n",
       " 'RestaurantsTableService',\n",
       " 'RestaurantsGoodForGroups',\n",
       " 'WheelchairAccessible',\n",
       " 'HasTV',\n",
       " 'HappyHour',\n",
       " 'DriveThru',\n",
       " 'BusinessAcceptsBitcoin',\n",
       " 'Corkage',\n",
       " 'GoodForDancing',\n",
       " 'BYOB',\n",
       " 'Open24Hours',\n",
       " 'RestaurantsCounterService',\n",
       " 'AcceptsInsurance',\n",
       " ' Sushi Bars',\n",
       " ' Cocktail Bars',\n",
       " ' Japanese',\n",
       " 'Nightlife',\n",
       " 'Fast Food',\n",
       " ' Bakeries',\n",
       " 'American (Traditional)',\n",
       " ' Desserts',\n",
       " ' Sports Bars',\n",
       " ' Specialty Food',\n",
       " 'Sandwiches',\n",
       " ' Caterers',\n",
       " ' Chinese',\n",
       " 'Pizza',\n",
       " ' Delis',\n",
       " ' Cafes',\n",
       " ' Chicken Wings',\n",
       " ' Event Planning & Services',\n",
       " ' Salad',\n",
       " ' Seafood',\n",
       " ' Mexican',\n",
       " ' Coffee & Tea',\n",
       " ' Italian',\n",
       " ' Burgers',\n",
       " ' Pizza',\n",
       " ' American (New)',\n",
       " ' Fast Food',\n",
       " ' Breakfast & Brunch',\n",
       " ' American (Traditional)',\n",
       " ' Sandwiches',\n",
       " ' Bars',\n",
       " ' Nightlife']"
      ]
     },
     "execution_count": 99,
     "metadata": {},
     "output_type": "execute_result"
    }
   ],
   "source": [
    "arr_name"
   ]
  },
  {
   "cell_type": "code",
   "execution_count": 100,
   "metadata": {},
   "outputs": [
    {
     "data": {
      "text/plain": [
       "((41062, 69), 69)"
      ]
     },
     "execution_count": 100,
     "metadata": {},
     "output_type": "execute_result"
    }
   ],
   "source": [
    "X.shape, len(arr_name)"
   ]
  },
  {
   "cell_type": "code",
   "execution_count": 74,
   "metadata": {},
   "outputs": [
    {
     "data": {
      "text/plain": [
       "15"
      ]
     },
     "execution_count": 74,
     "metadata": {},
     "output_type": "execute_result"
    }
   ],
   "source": [
    "len(arr_name)"
   ]
  },
  {
   "cell_type": "code",
   "execution_count": 85,
   "metadata": {},
   "outputs": [
    {
     "data": {
      "text/plain": [
       "69"
      ]
     },
     "execution_count": 85,
     "metadata": {},
     "output_type": "execute_result"
    }
   ],
   "source": [
    "len()"
   ]
  },
  {
   "cell_type": "code",
   "execution_count": 36,
   "metadata": {},
   "outputs": [
    {
     "data": {
      "text/html": [
       "<div>\n",
       "<style scoped>\n",
       "    .dataframe tbody tr th:only-of-type {\n",
       "        vertical-align: middle;\n",
       "    }\n",
       "\n",
       "    .dataframe tbody tr th {\n",
       "        vertical-align: top;\n",
       "    }\n",
       "\n",
       "    .dataframe thead th {\n",
       "        text-align: right;\n",
       "    }\n",
       "</style>\n",
       "<table border=\"1\" class=\"dataframe\">\n",
       "  <thead>\n",
       "    <tr style=\"text-align: right;\">\n",
       "      <th></th>\n",
       "      <th>stars_y</th>\n",
       "      <th>stars_x</th>\n",
       "      <th>population_postal</th>\n",
       "      <th>density_postal</th>\n",
       "      <th>population_city</th>\n",
       "      <th>density_city</th>\n",
       "      <th>population_state</th>\n",
       "      <th>density_state</th>\n",
       "      <th>mean_time</th>\n",
       "      <th>brand_size</th>\n",
       "      <th>category_array</th>\n",
       "      <th>attribute_array</th>\n",
       "      <th>category_counts_mean</th>\n",
       "      <th>category_counts_std</th>\n",
       "      <th>category_counts_median</th>\n",
       "      <th>category_counts_max</th>\n",
       "      <th>category_counts_min</th>\n",
       "    </tr>\n",
       "  </thead>\n",
       "  <tbody>\n",
       "    <tr>\n",
       "      <th>0</th>\n",
       "      <td>4.057471</td>\n",
       "      <td>4.0</td>\n",
       "      <td>13696.0</td>\n",
       "      <td>10455.0</td>\n",
       "      <td>192100514.0</td>\n",
       "      <td>40999534.8</td>\n",
       "      <td>373984010.0</td>\n",
       "      <td>48385424.5</td>\n",
       "      <td>805.714286</td>\n",
       "      <td>1</td>\n",
       "      <td>[0, 0, 0, 0, 0, 1, 0, 0, 0, 0, 0, 0, 0, 0, 0, ...</td>\n",
       "      <td>[0, 0, 0, 1, 1, 0, 1, 0, 0, 0, 0, 0, 0, 0, 0, ...</td>\n",
       "      <td>6604.800000</td>\n",
       "      <td>6845.528409</td>\n",
       "      <td>3367.0</td>\n",
       "      <td>15290</td>\n",
       "      <td>249</td>\n",
       "    </tr>\n",
       "    <tr>\n",
       "      <th>1</th>\n",
       "      <td>2.166667</td>\n",
       "      <td>2.0</td>\n",
       "      <td>17323.0</td>\n",
       "      <td>43.2</td>\n",
       "      <td>415752.0</td>\n",
       "      <td>1036.8</td>\n",
       "      <td>155394812.0</td>\n",
       "      <td>3269208.1</td>\n",
       "      <td>900.000000</td>\n",
       "      <td>112</td>\n",
       "      <td>[0, 0, 0, 0, 0, 0, 0, 0, 0, 0, 0, 0, 0, 0, 0, ...</td>\n",
       "      <td>[1, 1, 1, 0, 1, 0, 0, 0, 1, 0, 0, 0, 1, 1, 1, ...</td>\n",
       "      <td>10541.833333</td>\n",
       "      <td>13641.590441</td>\n",
       "      <td>5859.0</td>\n",
       "      <td>36978</td>\n",
       "      <td>869</td>\n",
       "    </tr>\n",
       "    <tr>\n",
       "      <th>2</th>\n",
       "      <td>1.700000</td>\n",
       "      <td>1.5</td>\n",
       "      <td>38583.0</td>\n",
       "      <td>708.9</td>\n",
       "      <td>68583640.0</td>\n",
       "      <td>2686802.4</td>\n",
       "      <td>155394812.0</td>\n",
       "      <td>3269208.1</td>\n",
       "      <td>760.000000</td>\n",
       "      <td>112</td>\n",
       "      <td>[0, 0, 0, 0, 0, 0, 0, 0, 0, 0, 0, 0, 0, 0, 0, ...</td>\n",
       "      <td>[1, 1, 1, 0, 1, 0, 0, 0, 1, 0, 0, 0, 0, 1, 1, ...</td>\n",
       "      <td>11871.600000</td>\n",
       "      <td>14721.433891</td>\n",
       "      <td>5073.0</td>\n",
       "      <td>36978</td>\n",
       "      <td>219</td>\n",
       "    </tr>\n",
       "    <tr>\n",
       "      <th>3</th>\n",
       "      <td>1.588235</td>\n",
       "      <td>1.5</td>\n",
       "      <td>38794.0</td>\n",
       "      <td>376.7</td>\n",
       "      <td>443044.0</td>\n",
       "      <td>3111.7</td>\n",
       "      <td>155394812.0</td>\n",
       "      <td>3269208.1</td>\n",
       "      <td>880.000000</td>\n",
       "      <td>112</td>\n",
       "      <td>[0, 0, 0, 0, 0, 0, 0, 0, 0, 0, 0, 0, 0, 0, 0, ...</td>\n",
       "      <td>[1, 1, 1, 1, 1, 0, 0, 0, 1, 0, 0, 0, 0, 1, 1, ...</td>\n",
       "      <td>10068.400000</td>\n",
       "      <td>15131.493244</td>\n",
       "      <td>4519.0</td>\n",
       "      <td>36978</td>\n",
       "      <td>869</td>\n",
       "    </tr>\n",
       "    <tr>\n",
       "      <th>4</th>\n",
       "      <td>3.142857</td>\n",
       "      <td>3.0</td>\n",
       "      <td>38794.0</td>\n",
       "      <td>376.7</td>\n",
       "      <td>68583640.0</td>\n",
       "      <td>2686802.4</td>\n",
       "      <td>155394812.0</td>\n",
       "      <td>3269208.1</td>\n",
       "      <td>800.000000</td>\n",
       "      <td>112</td>\n",
       "      <td>[0, 0, 0, 0, 1, 0, 0, 0, 0, 0, 0, 0, 0, 0, 0, ...</td>\n",
       "      <td>[1, 1, 1, 0, 1, 0, 0, 0, 1, 0, 0, 0, 1, 1, 1, ...</td>\n",
       "      <td>9490.833333</td>\n",
       "      <td>14201.435032</td>\n",
       "      <td>2959.0</td>\n",
       "      <td>36978</td>\n",
       "      <td>611</td>\n",
       "    </tr>\n",
       "    <tr>\n",
       "      <th>...</th>\n",
       "      <td>...</td>\n",
       "      <td>...</td>\n",
       "      <td>...</td>\n",
       "      <td>...</td>\n",
       "      <td>...</td>\n",
       "      <td>...</td>\n",
       "      <td>...</td>\n",
       "      <td>...</td>\n",
       "      <td>...</td>\n",
       "      <td>...</td>\n",
       "      <td>...</td>\n",
       "      <td>...</td>\n",
       "      <td>...</td>\n",
       "      <td>...</td>\n",
       "      <td>...</td>\n",
       "      <td>...</td>\n",
       "      <td>...</td>\n",
       "    </tr>\n",
       "    <tr>\n",
       "      <th>42469</th>\n",
       "      <td>3.500000</td>\n",
       "      <td>3.5</td>\n",
       "      <td>24672.0</td>\n",
       "      <td>1186.2</td>\n",
       "      <td>3257898.0</td>\n",
       "      <td>112339.5</td>\n",
       "      <td>373984010.0</td>\n",
       "      <td>48385424.5</td>\n",
       "      <td>960.000000</td>\n",
       "      <td>1</td>\n",
       "      <td>[0, 0, 0, 0, 0, 0, 0, 0, 0, 0, 0, 0, 0, 0, 0, ...</td>\n",
       "      <td>[1, 0, 1, 0, 1, 0, 0, 0, 1, 0, 0, 0, 0, 0, 0, ...</td>\n",
       "      <td>11392.800000</td>\n",
       "      <td>15174.251240</td>\n",
       "      <td>6645.0</td>\n",
       "      <td>36978</td>\n",
       "      <td>66</td>\n",
       "    </tr>\n",
       "    <tr>\n",
       "      <th>42470</th>\n",
       "      <td>4.045455</td>\n",
       "      <td>4.0</td>\n",
       "      <td>29391.0</td>\n",
       "      <td>3222.9</td>\n",
       "      <td>192100514.0</td>\n",
       "      <td>40999534.8</td>\n",
       "      <td>373984010.0</td>\n",
       "      <td>48385424.5</td>\n",
       "      <td>582.857143</td>\n",
       "      <td>1</td>\n",
       "      <td>[0, 0, 0, 0, 0, 0, 0, 0, 0, 0, 1, 0, 0, 0, 0, ...</td>\n",
       "      <td>[0, 1, 1, 1, 1, 0, 0, 0, 1, 0, 0, 0, 1, 0, 1, ...</td>\n",
       "      <td>14038.000000</td>\n",
       "      <td>19884.670201</td>\n",
       "      <td>3415.0</td>\n",
       "      <td>36978</td>\n",
       "      <td>1721</td>\n",
       "    </tr>\n",
       "    <tr>\n",
       "      <th>42471</th>\n",
       "      <td>4.032864</td>\n",
       "      <td>4.0</td>\n",
       "      <td>1372.0</td>\n",
       "      <td>2699.4</td>\n",
       "      <td>68583640.0</td>\n",
       "      <td>2686802.4</td>\n",
       "      <td>155394812.0</td>\n",
       "      <td>3269208.1</td>\n",
       "      <td>370.000000</td>\n",
       "      <td>1</td>\n",
       "      <td>[0, 0, 0, 0, 0, 0, 0, 0, 0, 0, 0, 0, 0, 0, 0, ...</td>\n",
       "      <td>[0, 0, 1, 1, 0, 1, 0, 1, 1, 0, 0, 1, 1, 1, 1, ...</td>\n",
       "      <td>10343.400000</td>\n",
       "      <td>15754.146067</td>\n",
       "      <td>1154.0</td>\n",
       "      <td>36978</td>\n",
       "      <td>7</td>\n",
       "    </tr>\n",
       "    <tr>\n",
       "      <th>42472</th>\n",
       "      <td>4.254352</td>\n",
       "      <td>4.5</td>\n",
       "      <td>22378.0</td>\n",
       "      <td>211.8</td>\n",
       "      <td>26801052.0</td>\n",
       "      <td>689988.5</td>\n",
       "      <td>46173541.0</td>\n",
       "      <td>853515.4</td>\n",
       "      <td>695.000000</td>\n",
       "      <td>1</td>\n",
       "      <td>[0, 0, 0, 0, 0, 0, 0, 0, 0, 0, 0, 0, 0, 0, 0, ...</td>\n",
       "      <td>[0, 0, 1, 1, 0, 0, 0, 0, 0, 0, 0, 0, 1, 0, 1, ...</td>\n",
       "      <td>10534.000000</td>\n",
       "      <td>15105.782287</td>\n",
       "      <td>6645.0</td>\n",
       "      <td>36978</td>\n",
       "      <td>443</td>\n",
       "    </tr>\n",
       "    <tr>\n",
       "      <th>42473</th>\n",
       "      <td>4.514286</td>\n",
       "      <td>4.5</td>\n",
       "      <td>39060.0</td>\n",
       "      <td>9935.9</td>\n",
       "      <td>192100514.0</td>\n",
       "      <td>40999534.8</td>\n",
       "      <td>373984010.0</td>\n",
       "      <td>48385424.5</td>\n",
       "      <td>740.000000</td>\n",
       "      <td>1</td>\n",
       "      <td>[0, 0, 0, 0, 0, 0, 0, 0, 0, 0, 0, 0, 0, 0, 0, ...</td>\n",
       "      <td>[1, 0, 1, 1, 1, 0, 1, 0, 1, 0, 0, 1, 1, 0, 1, ...</td>\n",
       "      <td>9267.500000</td>\n",
       "      <td>8517.101179</td>\n",
       "      <td>9267.5</td>\n",
       "      <td>15290</td>\n",
       "      <td>3245</td>\n",
       "    </tr>\n",
       "  </tbody>\n",
       "</table>\n",
       "<p>41062 rows × 17 columns</p>\n",
       "</div>"
      ],
      "text/plain": [
       "        stars_y  stars_x  population_postal  density_postal  population_city  \\\n",
       "0      4.057471      4.0            13696.0         10455.0      192100514.0   \n",
       "1      2.166667      2.0            17323.0            43.2         415752.0   \n",
       "2      1.700000      1.5            38583.0           708.9       68583640.0   \n",
       "3      1.588235      1.5            38794.0           376.7         443044.0   \n",
       "4      3.142857      3.0            38794.0           376.7       68583640.0   \n",
       "...         ...      ...                ...             ...              ...   \n",
       "42469  3.500000      3.5            24672.0          1186.2        3257898.0   \n",
       "42470  4.045455      4.0            29391.0          3222.9      192100514.0   \n",
       "42471  4.032864      4.0             1372.0          2699.4       68583640.0   \n",
       "42472  4.254352      4.5            22378.0           211.8       26801052.0   \n",
       "42473  4.514286      4.5            39060.0          9935.9      192100514.0   \n",
       "\n",
       "       density_city  population_state  density_state   mean_time  brand_size  \\\n",
       "0        40999534.8       373984010.0     48385424.5  805.714286           1   \n",
       "1            1036.8       155394812.0      3269208.1  900.000000         112   \n",
       "2         2686802.4       155394812.0      3269208.1  760.000000         112   \n",
       "3            3111.7       155394812.0      3269208.1  880.000000         112   \n",
       "4         2686802.4       155394812.0      3269208.1  800.000000         112   \n",
       "...             ...               ...            ...         ...         ...   \n",
       "42469      112339.5       373984010.0     48385424.5  960.000000           1   \n",
       "42470    40999534.8       373984010.0     48385424.5  582.857143           1   \n",
       "42471     2686802.4       155394812.0      3269208.1  370.000000           1   \n",
       "42472      689988.5        46173541.0       853515.4  695.000000           1   \n",
       "42473    40999534.8       373984010.0     48385424.5  740.000000           1   \n",
       "\n",
       "                                          category_array  \\\n",
       "0      [0, 0, 0, 0, 0, 1, 0, 0, 0, 0, 0, 0, 0, 0, 0, ...   \n",
       "1      [0, 0, 0, 0, 0, 0, 0, 0, 0, 0, 0, 0, 0, 0, 0, ...   \n",
       "2      [0, 0, 0, 0, 0, 0, 0, 0, 0, 0, 0, 0, 0, 0, 0, ...   \n",
       "3      [0, 0, 0, 0, 0, 0, 0, 0, 0, 0, 0, 0, 0, 0, 0, ...   \n",
       "4      [0, 0, 0, 0, 1, 0, 0, 0, 0, 0, 0, 0, 0, 0, 0, ...   \n",
       "...                                                  ...   \n",
       "42469  [0, 0, 0, 0, 0, 0, 0, 0, 0, 0, 0, 0, 0, 0, 0, ...   \n",
       "42470  [0, 0, 0, 0, 0, 0, 0, 0, 0, 0, 1, 0, 0, 0, 0, ...   \n",
       "42471  [0, 0, 0, 0, 0, 0, 0, 0, 0, 0, 0, 0, 0, 0, 0, ...   \n",
       "42472  [0, 0, 0, 0, 0, 0, 0, 0, 0, 0, 0, 0, 0, 0, 0, ...   \n",
       "42473  [0, 0, 0, 0, 0, 0, 0, 0, 0, 0, 0, 0, 0, 0, 0, ...   \n",
       "\n",
       "                                         attribute_array  \\\n",
       "0      [0, 0, 0, 1, 1, 0, 1, 0, 0, 0, 0, 0, 0, 0, 0, ...   \n",
       "1      [1, 1, 1, 0, 1, 0, 0, 0, 1, 0, 0, 0, 1, 1, 1, ...   \n",
       "2      [1, 1, 1, 0, 1, 0, 0, 0, 1, 0, 0, 0, 0, 1, 1, ...   \n",
       "3      [1, 1, 1, 1, 1, 0, 0, 0, 1, 0, 0, 0, 0, 1, 1, ...   \n",
       "4      [1, 1, 1, 0, 1, 0, 0, 0, 1, 0, 0, 0, 1, 1, 1, ...   \n",
       "...                                                  ...   \n",
       "42469  [1, 0, 1, 0, 1, 0, 0, 0, 1, 0, 0, 0, 0, 0, 0, ...   \n",
       "42470  [0, 1, 1, 1, 1, 0, 0, 0, 1, 0, 0, 0, 1, 0, 1, ...   \n",
       "42471  [0, 0, 1, 1, 0, 1, 0, 1, 1, 0, 0, 1, 1, 1, 1, ...   \n",
       "42472  [0, 0, 1, 1, 0, 0, 0, 0, 0, 0, 0, 0, 1, 0, 1, ...   \n",
       "42473  [1, 0, 1, 1, 1, 0, 1, 0, 1, 0, 0, 1, 1, 0, 1, ...   \n",
       "\n",
       "       category_counts_mean  category_counts_std  category_counts_median  \\\n",
       "0               6604.800000          6845.528409                  3367.0   \n",
       "1              10541.833333         13641.590441                  5859.0   \n",
       "2              11871.600000         14721.433891                  5073.0   \n",
       "3              10068.400000         15131.493244                  4519.0   \n",
       "4               9490.833333         14201.435032                  2959.0   \n",
       "...                     ...                  ...                     ...   \n",
       "42469          11392.800000         15174.251240                  6645.0   \n",
       "42470          14038.000000         19884.670201                  3415.0   \n",
       "42471          10343.400000         15754.146067                  1154.0   \n",
       "42472          10534.000000         15105.782287                  6645.0   \n",
       "42473           9267.500000          8517.101179                  9267.5   \n",
       "\n",
       "       category_counts_max  category_counts_min  \n",
       "0                    15290                  249  \n",
       "1                    36978                  869  \n",
       "2                    36978                  219  \n",
       "3                    36978                  869  \n",
       "4                    36978                  611  \n",
       "...                    ...                  ...  \n",
       "42469                36978                   66  \n",
       "42470                36978                 1721  \n",
       "42471                36978                    7  \n",
       "42472                36978                  443  \n",
       "42473                15290                 3245  \n",
       "\n",
       "[41062 rows x 17 columns]"
      ]
     },
     "execution_count": 36,
     "metadata": {},
     "output_type": "execute_result"
    }
   ],
   "source": [
    " df_ml"
   ]
  },
  {
   "cell_type": "code",
   "execution_count": 38,
   "metadata": {},
   "outputs": [
    {
     "name": "stdout",
     "output_type": "stream",
     "text": [
      "Mean Squared Error: 0.332961296997588\n"
     ]
    }
   ],
   "source": [
    "from sklearn.preprocessing import PolynomialFeatures\n",
    "import numpy as np\n",
    "\n",
    "X = df_ml.drop(['stars_x','stars_y', 'attribute_array', 'category_array'], axis=1)  # Use all columns except 'stars'\n",
    "one_hot_attribute = np.array(df_ml['attribute_array'].tolist())\n",
    "one_hot_category = np.array(df_ml['category_array'].tolist())\n",
    "\n",
    "# Example: Assuming col1, col2, col3 need degree 5 and the rest degree 2\n",
    "columns_degree_5 = [ 'mean_time', 'brand_size']\n",
    "columns_degree_2 = [col for col in X.columns if col not in columns_degree_5]\n",
    "\n",
    "# Creating polynomial features for degree 5\n",
    "poly_5 = PolynomialFeatures(degree=5)\n",
    "X_poly_5 = poly_5.fit_transform(df_ml[columns_degree_5])\n",
    "\n",
    "# Creating polynomial features for degree 2\n",
    "poly_2 = PolynomialFeatures(degree=2)\n",
    "X_poly_2 = poly_2.fit_transform(df_ml[columns_degree_2])\n",
    "\n",
    "# Combine the polynomial features\n",
    "X_poly_combined = np.concatenate([X_poly_5, X_poly_2], axis=1)\n",
    "\n",
    "# Concatenate with one_hot_encoded features\n",
    "X_final = np.concatenate([one_hot_attribute, one_hot_category, X_poly_combined], axis=1)\n",
    "\n",
    "# Standardize the features\n",
    "scaler = StandardScaler()\n",
    "X_scaled = scaler.fit_transform(X_final)\n",
    "\n",
    "y = df_ml['stars_y']\n",
    "\n",
    "# Train-test split\n",
    "X_train, X_test, y_train, y_test = train_test_split(X_scaled, y, test_size=0.2, random_state=42)\n",
    "\n",
    "# Train the model and make predictions\n",
    "model = LinearRegression()\n",
    "model.fit(X_train, y_train)\n",
    "predictions = model.predict(X_test)\n",
    "\n",
    "# Evaluate\n",
    "mse = mean_squared_error(y_test, predictions)\n",
    "print(f\"Mean Squared Error: {mse}\")\n"
   ]
  },
  {
   "cell_type": "code",
   "execution_count": 46,
   "metadata": {},
   "outputs": [],
   "source": [
    "_, _, y_train_real, y_test_real = train_test_split(X_scaled, df_ml['stars_x'], test_size=0.2, random_state=42)"
   ]
  },
  {
   "cell_type": "code",
   "execution_count": 151,
   "metadata": {},
   "outputs": [
    {
     "name": "stdout",
     "output_type": "stream",
     "text": [
      "Mean Squared Error with L1 Regularization: 0.3927571600215655\n",
      "[ 0.00000000e+00 -0.00000000e+00  6.27136359e-03  0.00000000e+00\n",
      " -0.00000000e+00 -0.00000000e+00 -0.00000000e+00 -1.76156908e-01\n",
      " -5.59042815e-01 -0.00000000e+00  0.00000000e+00 -0.00000000e+00\n",
      "  0.00000000e+00 -0.00000000e+00 -0.00000000e+00  0.00000000e+00\n",
      "  0.00000000e+00 -0.00000000e+00  0.00000000e+00 -0.00000000e+00\n",
      " -1.14543539e-02 -1.27779121e-02 -0.00000000e+00 -0.00000000e+00\n",
      " -0.00000000e+00  0.00000000e+00 -0.00000000e+00  0.00000000e+00\n",
      "  0.00000000e+00 -0.00000000e+00  0.00000000e+00 -0.00000000e+00\n",
      "  0.00000000e+00 -9.38614899e-03  0.00000000e+00  0.00000000e+00\n",
      " -0.00000000e+00  5.31234939e-03 -0.00000000e+00 -0.00000000e+00\n",
      " -0.00000000e+00 -0.00000000e+00 -0.00000000e+00  0.00000000e+00\n",
      " -0.00000000e+00 -0.00000000e+00 -0.00000000e+00 -0.00000000e+00\n",
      "  0.00000000e+00 -5.06879030e-03 -0.00000000e+00 -0.00000000e+00\n",
      " -0.00000000e+00 -0.00000000e+00 -0.00000000e+00 -0.00000000e+00\n",
      " -0.00000000e+00 -0.00000000e+00 -0.00000000e+00 -1.55457451e-03\n",
      " -0.00000000e+00 -0.00000000e+00 -0.00000000e+00 -0.00000000e+00\n",
      " -0.00000000e+00  0.00000000e+00 -0.00000000e+00  0.00000000e+00\n",
      " -0.00000000e+00 -1.08428656e-02 -0.00000000e+00 -2.40171178e-04\n",
      " -0.00000000e+00 -0.00000000e+00 -1.07122651e-03 -0.00000000e+00\n",
      " -0.00000000e+00 -1.66171246e-02 -0.00000000e+00 -0.00000000e+00\n",
      " -0.00000000e+00 -2.02325013e-02 -0.00000000e+00 -1.99431472e-03\n",
      "  3.28459135e-01 -0.00000000e+00 -0.00000000e+00 -0.00000000e+00\n",
      " -2.36714480e-02  0.00000000e+00 -0.00000000e+00 -0.00000000e+00\n",
      " -0.00000000e+00 -0.00000000e+00 -0.00000000e+00 -0.00000000e+00\n",
      " -0.00000000e+00  0.00000000e+00 -0.00000000e+00 -0.00000000e+00\n",
      " -0.00000000e+00 -0.00000000e+00  0.00000000e+00 -5.44572875e-02\n",
      "  0.00000000e+00]\n"
     ]
    }
   ],
   "source": [
    "from sklearn.linear_model import Lasso\n",
    "\n",
    "# Initialize and train the model with L1 regularization\n",
    "lasso_model = Lasso(alpha=0.01)  # You can adjust the alpha parameter\n",
    "lasso_model.fit(X_train, y_train)\n",
    "\n",
    "# Predict and evaluate\n",
    "lasso_predictions = lasso_model.predict(X_test)\n",
    "rounded_lasso_predictions = np.array([round(p) for p in lasso_predictions])\n",
    "mse = mean_squared_error(y_test, lasso_predictions)\n",
    "print(f\"Mean Squared Error with L1 Regularization: {mse}\")\n",
    "\n",
    "# Access model coefficients\n",
    "lasso_coefficients = lasso_model.coef_\n",
    "print(lasso_coefficients)\n"
   ]
  },
  {
   "cell_type": "code",
   "execution_count": 49,
   "metadata": {},
   "outputs": [
    {
     "name": "stdout",
     "output_type": "stream",
     "text": [
      "Mean Squared Error with L2 Regularization: 0.332933272877451\n",
      "[-3.41325161e-03  1.29161161e-02 -5.28442251e-02  4.62445319e-02\n",
      "  1.18047681e-02 -2.51228138e-03  1.55848466e-02 -4.92748590e-02\n",
      " -1.96866007e-02 -3.15874594e-03  2.44456918e-02  4.81326336e-02\n",
      " -2.33869640e-02  5.45238818e-02 -1.09581648e-03 -2.43711975e-02\n",
      " -1.95450080e-02  4.61657286e-04  6.20841317e-03 -1.22157465e-02\n",
      "  2.44139284e-02  5.26766279e-04  3.51696350e-03  2.18129464e-03\n",
      " -2.44208627e-03  1.09651878e-02 -6.27221303e-03 -1.44582353e-02\n",
      " -1.49858524e-02 -6.94023588e-03 -1.68848186e-02  3.87721161e-03\n",
      " -2.38465802e-02  1.02102799e-02  1.25153401e-02  1.10518708e-02\n",
      " -3.50729768e-02 -1.46474224e-02  7.08994562e-03  2.04666249e-02\n",
      " -3.60323232e-02 -1.02687368e-02 -6.81359533e-03 -1.43169649e-02\n",
      "  7.26467972e-03  1.37338186e-02 -1.14766026e-02 -2.13668772e-02\n",
      " -3.63748268e-02 -9.90447972e-03 -4.59995936e-02 -1.36785993e-02\n",
      " -3.94135607e-02  1.55615193e-02  8.21808569e-03 -4.62461824e-02\n",
      "  0.00000000e+00 -8.58659463e-02 -1.33186354e+00  1.31203959e+00\n",
      " -3.68107190e+00  9.10860006e+00 -4.27812877e+00  4.46928288e+00\n",
      "  9.58704981e+00 -3.50947434e+01  4.42082704e+00 -2.46841635e+00\n",
      " -2.53663040e+00 -1.51500807e+01  5.48631421e+01 -1.50505594e+00\n",
      " -4.48451401e-01  3.63906117e+00 -3.26564911e+00  1.01907234e+01\n",
      " -2.82185310e+01  0.00000000e+00  3.99104383e-02  9.79808138e-02\n",
      " -1.38462780e-01  3.71909998e-01  2.75651185e-01 -6.60768332e-01\n",
      "  1.83637762e-02 -1.60103118e-01 -2.16369578e-02 -1.98295405e-02\n",
      " -3.65163876e-02 -4.69501833e-02 -1.35782787e-02  7.38696337e-02\n",
      " -6.39631621e-02  1.24917958e-02  8.38485582e-03 -5.55720424e-02\n",
      "  5.29568460e-02  2.65801633e-02 -2.68733325e-02 -9.06821206e-04\n",
      " -3.96446622e-02 -1.28710370e-01  1.31725670e-01  6.19234300e-02\n",
      " -6.38291538e-02 -1.07126990e-01  1.27511754e-01  9.73477628e-03\n",
      " -4.42217173e-02  7.74769201e-03 -3.02873434e-01  2.93764736e+00\n",
      "  1.99107972e-01 -8.92935674e-02  9.77013735e-02 -1.10691515e-01\n",
      " -4.12164406e-02  6.99815175e-02 -2.30694680e-02 -1.89283072e+00\n",
      " -2.20293763e+00  1.08254708e+00  1.27380059e-02 -3.87261235e-02\n",
      "  2.42582866e-02 -2.51830214e-02 -9.88231432e-03 -6.87670468e-01\n",
      "  2.32699613e+00  3.55590294e-02 -7.60729265e-02 -7.52307067e-03\n",
      "  4.08906664e-02 -1.40166961e-02 -1.27344120e+00 -7.82584663e-02\n",
      "  1.68090466e-01 -7.05916776e-03 -1.05933976e-01  1.87279883e-02\n",
      " -4.32312869e-01  1.49673595e+00 -2.25821078e-01 -3.87244389e-01\n",
      "  2.44307576e-01 -1.10655781e+00 -1.91413619e-01  6.37280504e-01\n",
      " -2.29645875e-01  3.10374210e-01  1.06103472e-01 -8.31124736e-02\n",
      " -1.97852999e-02  9.36540094e-02 -2.96824572e-02]\n"
     ]
    }
   ],
   "source": [
    "from sklearn.linear_model import Ridge\n",
    "\n",
    "# Initialize and train the model with L2 regularization\n",
    "ridge_model = Ridge(alpha=0.00001)  # You can adjust the alpha parameter\n",
    "ridge_model.fit(X_train, y_train)\n",
    "\n",
    "# Predict and evaluate\n",
    "ridge_predictions = ridge_model.predict(X_test)\n",
    "rounded_ridge_predictions = np.array([round(p) for p in ridge_predictions])\n",
    "mse = mean_squared_error(y_test, ridge_predictions)\n",
    "print(f\"Mean Squared Error with L2 Regularization: {mse}\")\n",
    "\n",
    "# Access model coefficients\n",
    "ridge_coefficients = ridge_model.coef_\n",
    "print(ridge_coefficients)"
   ]
  },
  {
   "cell_type": "code",
   "execution_count": 157,
   "metadata": {},
   "outputs": [],
   "source": [
    "from sklearn.linear_model import RidgeCV\n",
    "\n",
    "# Define a range of lambda values to test\n",
    "alpha_values = np.logspace(-4, 4, 100)  # For example, values from 0.0001 to 10000\n",
    "\n",
    "# Initialize RidgeCV\n",
    "ridge_cv = RidgeCV(alphas=alpha_values, store_cv_values=True)\n",
    "\n",
    "# Fit the model\n",
    "ridge_cv.fit(X_train, y_train)\n",
    "\n",
    "# Best lambda\n",
    "best_lambda = ridge_cv.alpha_\n",
    "print(f\"Best lambda: {best_lambda}\")\n",
    "\n",
    "# You can also access the mean squared errors for different alphas\n",
    "mse_values = np.mean(ridge_cv.cv_values_, axis=0)\n"
   ]
  },
  {
   "cell_type": "code",
   "execution_count": 50,
   "metadata": {},
   "outputs": [
    {
     "name": "stdout",
     "output_type": "stream",
     "text": [
      "Correctness Ratio: 0.33325216120784124\n"
     ]
    }
   ],
   "source": [
    "def round_to_nearest_half(number):\n",
    "    return round(number * 2) / 2\n",
    "\n",
    "rounded_predictions = np.array([round_to_nearest_half(p) for p in ridge_predictions]) \n",
    "correct_predictions = (y_test_real == rounded_predictions)\n",
    "correctness_ratio = correct_predictions.mean()\n",
    "print(f\"Correctness Ratio: {correctness_ratio}\")"
   ]
  },
  {
   "cell_type": "code",
   "execution_count": 116,
   "metadata": {},
   "outputs": [
    {
     "data": {
      "text/plain": [
       "array([0.37807523, 0.37807522, 0.3780752 , 0.37807519, 0.37807517,\n",
       "       0.37807515, 0.37807513, 0.3780751 , 0.37807506, 0.37807502,\n",
       "       0.37807497, 0.3780749 , 0.37807483, 0.37807474, 0.37807463,\n",
       "       0.3780745 , 0.37807434, 0.37807416, 0.37807394, 0.37807367,\n",
       "       0.37807336, 0.37807299, 0.37807254, 0.37807202, 0.37807141,\n",
       "       0.3780707 , 0.37806988, 0.37806894, 0.37806788, 0.3780667 ,\n",
       "       0.37806541, 0.37806405, 0.37806268, 0.3780614 , 0.37806035,\n",
       "       0.37805975, 0.37805991, 0.37806126, 0.37806436, 0.37806994,\n",
       "       0.37807891, 0.37809237, 0.3781116 , 0.37813804, 0.37817322,\n",
       "       0.37821864, 0.37827568, 0.37834543, 0.37842855, 0.37852509,\n",
       "       0.37863444, 0.3787553 , 0.37888572, 0.37902327, 0.3791652 ,\n",
       "       0.37930871, 0.37945111, 0.37959007, 0.37972372, 0.37985078,\n",
       "       0.37997067, 0.38008348, 0.38019009, 0.38029217, 0.38039219,\n",
       "       0.3804935 , 0.38060035, 0.38071794, 0.38085246, 0.38101115,\n",
       "       0.38120229, 0.38143529, 0.3817206 , 0.38206966, 0.38249466,\n",
       "       0.38300807, 0.38362196, 0.38434691, 0.38519075, 0.38615716,\n",
       "       0.38724436, 0.3884443 , 0.38974256, 0.39111915, 0.39255017,\n",
       "       0.39401014, 0.39547463, 0.39692276, 0.39833935, 0.39971643,\n",
       "       0.40105416, 0.40236113, 0.40365422, 0.40495802, 0.40630391,\n",
       "       0.40772877, 0.40927331, 0.41097998, 0.41289052, 0.41504324])"
      ]
     },
     "execution_count": 116,
     "metadata": {},
     "output_type": "execute_result"
    }
   ],
   "source": [
    "mse_values "
   ]
  },
  {
   "cell_type": "code",
   "execution_count": 61,
   "metadata": {},
   "outputs": [],
   "source": [
    "df_ml.to_csv(\"final_ml_data.csv\")"
   ]
  },
  {
   "cell_type": "code",
   "execution_count": 60,
   "metadata": {},
   "outputs": [
    {
     "data": {
      "text/plain": [
       "(0.0, 5.0)"
      ]
     },
     "execution_count": 60,
     "metadata": {},
     "output_type": "execute_result"
    },
    {
     "data": {
      "image/png": "[encoded data removed]",
      "text/plain": [
       "<Figure size 640x480 with 1 Axes>"
      ]
     },
     "metadata": {},
     "output_type": "display_data"
    }
   ],
   "source": [
    "import matplotlib.pyplot as plt\n",
    "\n",
    "plt.scatter(predictions, y_test, s= 5, alpha=0.3)\n",
    "\n",
    "x = [0, 5]\n",
    "y = [0, 5]\n",
    "\n",
    "\n",
    "\n",
    "plt.plot(x, y, color = \"red\")\n",
    "\n",
    "plt.ylabel('Real Avg.Rating')\n",
    "plt.xlabel('Predicted Avg.Rating')\n",
    "\n",
    "plt.grid(True, linestyle='--', linewidth=0.5, color='gray')\n",
    "\n",
    "\n",
    "plt.ylim(0,5)\n",
    "plt.xlim(0,5)"
   ]
  },
  {
   "cell_type": "code",
   "execution_count": 123,
   "metadata": {},
   "outputs": [
    {
     "data": {
      "text/plain": [
       "4.259749081533041"
      ]
     },
     "execution_count": 123,
     "metadata": {},
     "output_type": "execute_result"
    }
   ],
   "source": [
    "np.max(ridge_predictions)"
   ]
  },
  {
   "cell_type": "code",
   "execution_count": 124,
   "metadata": {},
   "outputs": [
    {
     "data": {
      "text/plain": [
       "(0.0, 5.0)"
      ]
     },
     "execution_count": 124,
     "metadata": {},
     "output_type": "execute_result"
    },
    {
     "data": {
      "image/png": "[encoded data removed]",
      "text/plain": [
       "<Figure size 640x480 with 1 Axes>"
      ]
     },
     "metadata": {},
     "output_type": "display_data"
    }
   ],
   "source": [
    "import matplotlib.pyplot as plt\n",
    "\n",
    "plt.scatter(y_test_real,ridge_predictions, s= 5, alpha=0.1)\n",
    "plt.ylim(0,5)"
   ]
  },
  {
   "cell_type": "code",
   "execution_count": 122,
   "metadata": {},
   "outputs": [],
   "source": [
    "brand_counts.to_csv(\"yelp_brands.csv\")"
   ]
  },
  {
   "cell_type": "code",
   "execution_count": null,
   "metadata": {},
   "outputs": [],
   "source": []
  }
 ],
 "metadata": {
  "kernelspec": {
   "display_name": "cse481",
   "language": "python",
   "name": "python3"
  },
  "language_info": {
   "codemirror_mode": {
    "name": "ipython",
    "version": 3
   },
   "file_extension": ".py",
   "mimetype": "text/x-python",
   "name": "python",
   "nbconvert_exporter": "python",
   "pygments_lexer": "ipython3",
   "version": "3.10.13"
  },
  "orig_nbformat": 4
 },
 "nbformat": 4,
 "nbformat_minor": 2
}
