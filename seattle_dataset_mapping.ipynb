{
 "cells": [
  {
   "cell_type": "code",
   "execution_count": null,
   "metadata": {},
   "outputs": [],
   "source": [
    "import folium\n",
    "\n",
    "# Create a map centered around a point\n",
    "m = folium.Map(location=[20, 0], zoom_start=4)\n",
    "\n",
    "# Example list of lat/lng\n",
    "locations = [\n",
    "    [37.423021, -122.083739],\n",
    "    [36.964645, -122.015261]\n",
    "]\n",
    "\n",
    "for location in locations:\n",
    "    folium.Marker(location).add_to(m)\n",
    "\n",
    "# Save map to an HTML file\n",
    "m.save(\"map.html\")\n"
   ]
  },
  {
   "cell_type": "code",
   "execution_count": null,
   "metadata": {},
   "outputs": [],
   "source": [
    "import pandas as pd\n",
    "import numpy as np \n",
    "\n",
    "\n",
    "rate_df = pd.read_csv('Restaurants_Seattle.csv')\n",
    "hour_df = pd.read_csv('Restaurants_Seattle_Hours_with_coordinates.csv')"
   ]
  },
  {
   "cell_type": "code",
   "execution_count": null,
   "metadata": {},
   "outputs": [],
   "source": [
    "#merged_df = pd.read_csv('merge.csv')\n",
    "merged_df = pd.merge(hour_df, rate_df, on='Name')"
   ]
  },
  {
   "cell_type": "code",
   "execution_count": null,
   "metadata": {},
   "outputs": [],
   "source": [
    "merged_df "
   ]
  },
  {
   "cell_type": "code",
   "execution_count": null,
   "metadata": {},
   "outputs": [],
   "source": [
    "merged_df = merged_df.dropna(subset =['Latitude'])"
   ]
  },
  {
   "cell_type": "code",
   "execution_count": null,
   "metadata": {},
   "outputs": [],
   "source": [
    "df_filtered = merged_df[merged_df['Stars_count'] > 5]"
   ]
  },
  {
   "cell_type": "code",
   "execution_count": null,
   "metadata": {},
   "outputs": [],
   "source": []
  },
  {
   "cell_type": "code",
   "execution_count": null,
   "metadata": {},
   "outputs": [],
   "source": [
    "import matplotlib.pyplot as plt\n",
    "\n",
    "plt.figure(figsize=(12, 10))\n",
    "\n",
    "plt.ylabel('longtitude')\n",
    "plt.xlabel('latitude')\n",
    "plt.title('Review count vs Distance to downtown')\n",
    "\n",
    "plt.scatter( merged_df['Latitude'], merged_df['Longitude'],  c= np.log(merged_df['Stars_count']), cmap='magma', s=5)\n",
    "\n",
    "# Add a color bar to show the mapping of values to colors\n",
    "color_bar = plt.colorbar()\n",
    "color_bar.set_label('Log of Review Count ')\n",
    "\n",
    "\n",
    "plt.show()"
   ]
  },
  {
   "cell_type": "code",
   "execution_count": null,
   "metadata": {},
   "outputs": [],
   "source": [
    "import folium\n",
    "\n",
    "# Create a map centered around a point\n",
    "m = folium.Map(location=[20, 0], zoom_start=4)\n",
    "\n",
    "# Example list of lat/lng\n",
    "locations = [\n",
    "    [37.423021, -122.083739],\n",
    "    [36.964645, -122.015261]\n",
    "]\n",
    "\n",
    "for location in locations:\n",
    "    folium.Marker(location).add_to(m)\n",
    "\n",
    "# Save map to an HTML file\n",
    "m.save(\"map.html\")\n"
   ]
  },
  {
   "cell_type": "code",
   "execution_count": null,
   "metadata": {},
   "outputs": [],
   "source": [
    "for _, row in df.iterrows():\n",
    "    color = get_marker_color(row['star_count'])\n",
    "    folium.Marker(\n",
    "        location=[row['latitude'], row['longitude']],\n",
    "        icon=folium.Icon(color=color)\n",
    "    ).add_to(m)"
   ]
  },
  {
   "cell_type": "code",
   "execution_count": null,
   "metadata": {},
   "outputs": [],
   "source": [
    "merged_df "
   ]
  },
  {
   "cell_type": "code",
   "execution_count": null,
   "metadata": {},
   "outputs": [],
   "source": [
    "hour_df['Latitude'].isna().sum()"
   ]
  },
  {
   "cell_type": "code",
   "execution_count": null,
   "metadata": {},
   "outputs": [],
   "source": [
    "def get_marker_color(star_count):\n",
    "    if star_count < 3:\n",
    "        return 'lightblue'\n",
    "    if star_count < 5:\n",
    "        return 'blue'\n",
    "    elif star_count < 7:\n",
    "        return 'orange'\n",
    "    elif star_count < 8:\n",
    "        return 'red'\n",
    "    else:\n",
    "        return 'darkred'"
   ]
  },
  {
   "cell_type": "code",
   "execution_count": null,
   "metadata": {},
   "outputs": [],
   "source": [
    "import pandas as pd\n",
    "import folium\n",
    "import branca\n",
    "import numpy as np\n",
    "\n",
    "#47.6050° N, 122.3344° W\n",
    "# Create a map centered around a point\n",
    "m = folium.Map(location=[47.6050, -122.3344], zoom_start=10)\n",
    "\n",
    "# Apply a logarithmic transformation to the star_count values\n",
    "df_filtered['log_star_count'] = np.log(df_filtered['Stars_count'])\n",
    "\n",
    "transitions = [0, 1, 2]\n",
    "colors = [\"blue\", \"red\"]\n",
    "\n",
    "colormap = branca.colormap.LinearColormap(colors, \n",
    "                                          index=transitions, \n",
    "                                          caption='Logarithmic Star Count',\n",
    "                                          )\n",
    "\n",
    "m.add_child(colormap)\n",
    "\n",
    "# Iterate over DataFrame and add markers to the map\n",
    "for _, row in df_filtered.iterrows():\n",
    "    color = get_marker_color(row['log_star_count'])\n",
    "    folium.Marker(\n",
    "        location=[row['Latitude'], row['Longitude']],\n",
    "        icon=folium.Icon(color=color, icon='star'),  # Using a 'star' icon for illustration\n",
    "        popup=f\"Star Count: {row['Stars_count']}\"  # Display original star_count on popup\n",
    "    ).add_to(m)\n",
    "\n",
    "# Save map to an HTML file\n",
    "m.save(\"map.html\")\n"
   ]
  },
  {
   "cell_type": "code",
   "execution_count": null,
   "metadata": {},
   "outputs": [],
   "source": [
    "np.max( np.log(df_filtered['Stars_count']))"
   ]
  },
  {
   "cell_type": "code",
   "execution_count": null,
   "metadata": {},
   "outputs": [],
   "source": [
    "transitions = [0, 3, 5, 6, 7, 8, 9]\n",
    "colors = [\"lightblue\", \"blue\", \"yellow\", \"orange\", \"red\", \"darkred\"]\n",
    "assert len(transitions) == len(colors) + 1, \"Mismatch between colors and transitions lengths.\"\n"
   ]
  },
  {
   "cell_type": "code",
   "execution_count": null,
   "metadata": {},
   "outputs": [],
   "source": [
    "#47.6050° N, 122.3344° W\n",
    "merged_df['distance'] = np.sqrt((merged_df['Latitude'] -  47.6050)** 2 + (merged_df['Longitude'] + 122.3344) ** 2) * 111"
   ]
  },
  {
   "cell_type": "code",
   "execution_count": null,
   "metadata": {},
   "outputs": [],
   "source": []
  },
  {
   "cell_type": "code",
   "execution_count": null,
   "metadata": {},
   "outputs": [],
   "source": [
    "import matplotlib.pyplot as plt\n",
    "\n",
    "plt.figure(figsize=(12, 10))\n",
    "\n",
    "plt.xlabel('distance')\n",
    "plt.ylabel('Review Count')\n",
    "plt.title('Review count vs Distance to downtown')\n",
    "plt.grid(True, linestyle='--')\n",
    "\n",
    "plt.scatter(merged_df['distance'], merged_df['Stars_count'],  c=  merged_df['Star'], cmap='coolwarm', s=5,facecolor='E1E1E1')\n",
    "\n",
    "# Add a color bar to show the mapping of values to colors\n",
    "color_bar = plt.colorbar()\n",
    "color_bar.set_label('Star')\n",
    "\n",
    "\n",
    "plt.show()"
   ]
  },
  {
   "cell_type": "code",
   "execution_count": null,
   "metadata": {},
   "outputs": [],
   "source": []
  },
  {
   "cell_type": "code",
   "execution_count": null,
   "metadata": {},
   "outputs": [],
   "source": [
    "import matplotlib.pyplot as plt\n",
    "\n",
    "plt.figure(figsize=(12, 10))\n",
    "\n",
    "plt.xlabel('distance')\n",
    "plt.ylabel('Review Count')\n",
    "plt.title('Review count vs Distance to downtown')\n",
    "plt.grid(True, linestyle='--')\n",
    "\n",
    "X = -1 * merged_df['distance']\n",
    "Y = merged_df['Stars_count']\n",
    "\n",
    "m, b = np.polyfit(X, Y, 1)\n",
    "\n",
    "plt.plot(X, m*X + b, color='red', label=f'Linear Fit: y = {m:.2f}x + {b:.2f}')\n",
    "plt.scatter(-1 * merged_df['distance'], merged_df['Stars_count'],  c=  merged_df['Star'], cmap='coolwarm', s=5,facecolor='E1E1E1')\n",
    "\n",
    "# Add a color bar to show the mapping of values to colors\n",
    "color_bar = plt.colorbar()\n",
    "color_bar.set_label('Star')\n",
    "\n",
    "\n",
    "plt.show()"
   ]
  },
  {
   "cell_type": "code",
   "execution_count": null,
   "metadata": {},
   "outputs": [],
   "source": [
    "correlation_matrix = np.corrcoef(merged_df['distance'], merged_df['Stars_count'])\n",
    "correlation_matrix[0,1]"
   ]
  },
  {
   "cell_type": "code",
   "execution_count": null,
   "metadata": {},
   "outputs": [],
   "source": [
    "correlation_matrix = np.corrcoef(merged_df['distance'], merged_df['Star'])\n",
    "correlation_matrix[0,1]"
   ]
  },
  {
   "cell_type": "code",
   "execution_count": null,
   "metadata": {},
   "outputs": [],
   "source": [
    "correlation_matrix = np.corrcoef( 644/ merged_df['distance'], merged_df['Stars_count'])\n",
    "correlation_matrix[0,1]"
   ]
  },
  {
   "cell_type": "code",
   "execution_count": null,
   "metadata": {},
   "outputs": [],
   "source": [
    "import matplotlib.pyplot as plt\n",
    "\n",
    "plt.figure(figsize=(12, 10))\n",
    "\n",
    "plt.xlabel('distance')\n",
    "plt.ylabel('Review Count')\n",
    "plt.title('Review count vs Distance to downtown')\n",
    "plt.grid(True, linestyle='--')\n",
    "\n",
    "X = merged_df['distance'] ** 2\n",
    "Y = merged_df['Stars_count']\n",
    "\n",
    "m, b = np.polyfit(X, Y, 1)\n",
    "\n",
    "plt.plot(X, m*X + b, color='red', label=f'Linear Fit: y = {m:.2f}x + {b:.2f}')\n",
    "plt.scatter(X, Y,  c=  merged_df['Star'], cmap='coolwarm', s=5,facecolor='E1E1E1')\n",
    "\n",
    "# Add a color bar to show the mapping of values to colors\n",
    "color_bar = plt.colorbar()\n",
    "color_bar.set_label('Star')\n",
    "\n",
    "\n",
    "plt.show()"
   ]
  },
  {
   "cell_type": "code",
   "execution_count": null,
   "metadata": {},
   "outputs": [],
   "source": [
    "import matplotlib.pyplot as plt\n",
    "\n",
    "plt.figure(figsize=(12, 10))\n",
    "\n",
    "plt.xlabel('distance')\n",
    "plt.ylabel('Review Count')\n",
    "plt.title('Review count vs Distance to downtown')\n",
    "plt.grid(True, linestyle='--')\n",
    "\n",
    "X = merged_df['distance']\n",
    "Y = merged_df['Stars_count']\n",
    "Z = 1 / X\n",
    "\n",
    "a, b = np.polyfit(Z, Y, 1)\n",
    "\n",
    "\n",
    "# Plot the inverse relationship fit\n",
    "X_smooth = np.linspace(X.min(), X.max(), 500)\n",
    "Y_smooth = a / X_smooth + b\n",
    "plt.plot(X_smooth, Y_smooth, color='red', label=f'Inverse Fit: y = {a:.2f}/x + {b:.2f}')\n",
    "\n",
    "\n",
    "\n",
    "plt.scatter(X, Y,  c=  merged_df['Star'], cmap='coolwarm', s=5,facecolor='E1E1E1')\n",
    "\n",
    "# Add a color bar to show the mapping of values to colors\n",
    "color_bar = plt.colorbar()\n",
    "color_bar.set_label('Star')\n",
    "\n",
    "\n",
    "plt.show()"
   ]
  },
  {
   "cell_type": "code",
   "execution_count": null,
   "metadata": {},
   "outputs": [],
   "source": [
    "correlation_matrix = np.corrcoef( a/merged_df['distance'] + b, merged_df['Stars_count'])\n",
    "correlation_matrix[0,1]"
   ]
  },
  {
   "cell_type": "code",
   "execution_count": null,
   "metadata": {},
   "outputs": [],
   "source": [
    "def compute_r_squared(observed, predicted):\n",
    "    \"\"\"Compute the R^2 value.\"\"\"\n",
    "    y_bar = np.mean(observed)\n",
    "    ss_tot = np.sum((observed - y_bar)**2)\n",
    "    ss_res = np.sum((observed - predicted)**2)\n",
    "    r_squared = 1 - (ss_res / ss_tot)\n",
    "    return r_squared\n",
    "\n",
    "# Using the previous data and fit:\n",
    "predicted_Y = a / X + b\n",
    "r_squared = compute_r_squared(Y, predicted_Y)\n",
    "\n",
    "print(f\"The R^2 value for the fit is: {r_squared:.2f}\")"
   ]
  },
  {
   "cell_type": "code",
   "execution_count": null,
   "metadata": {},
   "outputs": [],
   "source": [
    "latitude\tlongitude"
   ]
  },
  {
   "cell_type": "code",
   "execution_count": null,
   "metadata": {},
   "outputs": [],
   "source": [
    "# Given coordinates\n",
    "latitudes = [47.609478, 47.663277, 47.61526580730773, 47.315898]\n",
    "longitudes = [-122.337596, -122.313113, -122.20426428866053, -122.312828]\n",
    "\n",
    "# Create a new column with a high initial value\n",
    "df_filtered['best_distance'] = 10000\n",
    "\n",
    "# Iterate over each row\n",
    "for index, row in df_filtered.iterrows():\n",
    "    min_distance = 10000\n",
    "    for i in range(4):\n",
    "        row_distance = np.sqrt((row['Latitude'] - latitudes[i]) ** 2 + (row['Longitude'] - longitudes[i]) ** 2) * 111\n",
    "        min_distance = min(row_distance, min_distance)\n",
    "    df_filtered.at[index, 'best_distance'] = min_distance\n",
    "\n"
   ]
  },
  {
   "cell_type": "code",
   "execution_count": null,
   "metadata": {},
   "outputs": [],
   "source": [
    "import matplotlib.pyplot as plt\n",
    "\n",
    "plt.figure(figsize=(12, 10))\n",
    "\n",
    "plt.xlabel('distance')\n",
    "plt.ylabel('Review Count')\n",
    "plt.title('Review count vs Distance to downtown')\n",
    "plt.grid(True, linestyle='--')\n",
    "\n",
    "X = df_filtered['best_distance']\n",
    "Y = df_filtered['Stars_count']\n",
    "Z = 1 / X\n",
    "\n",
    "a, b = np.polyfit(Z, Y, 1)\n",
    "\n",
    "\n",
    "# Plot the inverse relationship fit\n",
    "X_smooth = np.linspace(X.min(), X.max(), 500)\n",
    "Y_smooth = a / X_smooth + b\n",
    "plt.plot(X_smooth, Y_smooth, color='red', label=f'Inverse Fit: y = {a:.2f}/x + {b:.2f}')\n",
    "\n",
    "\n",
    "\n",
    "plt.scatter(X, Y,  c=  df_filtered['Star'], cmap='coolwarm', s=5,facecolor='E1E1E1')\n",
    "\n",
    "# Add a color bar to show the mapping of values to colors\n",
    "color_bar = plt.colorbar()\n",
    "color_bar.set_label('Star')\n",
    "\n",
    "\n",
    "plt.show()"
   ]
  },
  {
   "cell_type": "code",
   "execution_count": null,
   "metadata": {},
   "outputs": [],
   "source": [
    "df_filtered['best_distance']"
   ]
  },
  {
   "cell_type": "code",
   "execution_count": null,
   "metadata": {},
   "outputs": [],
   "source": [
    "correlation_matrix = np.corrcoef( a/df_filtered['best_distance'] + b,df_filtered['Stars_count'])\n",
    "correlation_matrix[0,1]"
   ]
  },
  {
   "cell_type": "code",
   "execution_count": null,
   "metadata": {},
   "outputs": [],
   "source": []
  }
 ],
 "metadata": {
  "kernelspec": {
   "display_name": "cse481",
   "language": "python",
   "name": "python3"
  },
  "language_info": {
   "codemirror_mode": {
    "name": "ipython",
    "version": 3
   },
   "file_extension": ".py",
   "mimetype": "text/x-python",
   "name": "python",
   "nbconvert_exporter": "python",
   "pygments_lexer": "ipython3",
   "version": "3.10.13"
  }
 },
 "nbformat": 4,
 "nbformat_minor": 2
}
