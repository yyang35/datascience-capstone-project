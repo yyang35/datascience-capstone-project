{
 "cells": [
  {
   "cell_type": "code",
   "execution_count": 2,
   "metadata": {},
   "outputs": [],
   "source": [
    "import pandas as pd\n",
    "import numpy as np \n",
    "\n",
    "df = pd.read_csv('reviews.csv')"
   ]
  },
  {
   "cell_type": "code",
   "execution_count": 3,
   "metadata": {},
   "outputs": [
    {
     "data": {
      "text/html": [
       "<div>\n",
       "<style scoped>\n",
       "    .dataframe tbody tr th:only-of-type {\n",
       "        vertical-align: middle;\n",
       "    }\n",
       "\n",
       "    .dataframe tbody tr th {\n",
       "        vertical-align: top;\n",
       "    }\n",
       "\n",
       "    .dataframe thead th {\n",
       "        text-align: right;\n",
       "    }\n",
       "</style>\n",
       "<table border=\"1\" class=\"dataframe\">\n",
       "  <thead>\n",
       "    <tr style=\"text-align: right;\">\n",
       "      <th></th>\n",
       "      <th>business_name</th>\n",
       "      <th>author_name</th>\n",
       "      <th>text</th>\n",
       "      <th>photo</th>\n",
       "      <th>rating</th>\n",
       "      <th>rating_category</th>\n",
       "    </tr>\n",
       "  </thead>\n",
       "  <tbody>\n",
       "    <tr>\n",
       "      <th>0</th>\n",
       "      <td>Haci'nin Yeri - Yigit Lokantasi</td>\n",
       "      <td>Gulsum Akar</td>\n",
       "      <td>We went to Marmaris with my wife for a holiday...</td>\n",
       "      <td>dataset/taste/hacinin_yeri_gulsum_akar.png</td>\n",
       "      <td>5</td>\n",
       "      <td>taste</td>\n",
       "    </tr>\n",
       "    <tr>\n",
       "      <th>1</th>\n",
       "      <td>Haci'nin Yeri - Yigit Lokantasi</td>\n",
       "      <td>Oguzhan Cetin</td>\n",
       "      <td>During my holiday in Marmaris we ate here to f...</td>\n",
       "      <td>dataset/menu/hacinin_yeri_oguzhan_cetin.png</td>\n",
       "      <td>4</td>\n",
       "      <td>menu</td>\n",
       "    </tr>\n",
       "    <tr>\n",
       "      <th>2</th>\n",
       "      <td>Haci'nin Yeri - Yigit Lokantasi</td>\n",
       "      <td>Yasin Kuyu</td>\n",
       "      <td>Prices are very affordable. The menu in the ph...</td>\n",
       "      <td>dataset/outdoor_atmosphere/hacinin_yeri_yasin_...</td>\n",
       "      <td>3</td>\n",
       "      <td>outdoor_atmosphere</td>\n",
       "    </tr>\n",
       "    <tr>\n",
       "      <th>3</th>\n",
       "      <td>Haci'nin Yeri - Yigit Lokantasi</td>\n",
       "      <td>Orhan Kapu</td>\n",
       "      <td>Turkey's cheapest artisan restaurant and its f...</td>\n",
       "      <td>dataset/indoor_atmosphere/hacinin_yeri_orhan_k...</td>\n",
       "      <td>5</td>\n",
       "      <td>indoor_atmosphere</td>\n",
       "    </tr>\n",
       "    <tr>\n",
       "      <th>4</th>\n",
       "      <td>Haci'nin Yeri - Yigit Lokantasi</td>\n",
       "      <td>Ozgur Sati</td>\n",
       "      <td>I don't know what you will look for in terms o...</td>\n",
       "      <td>dataset/menu/hacinin_yeri_ozgur_sati.png</td>\n",
       "      <td>3</td>\n",
       "      <td>menu</td>\n",
       "    </tr>\n",
       "    <tr>\n",
       "      <th>...</th>\n",
       "      <td>...</td>\n",
       "      <td>...</td>\n",
       "      <td>...</td>\n",
       "      <td>...</td>\n",
       "      <td>...</td>\n",
       "      <td>...</td>\n",
       "    </tr>\n",
       "    <tr>\n",
       "      <th>1095</th>\n",
       "      <td>Miss Pizza</td>\n",
       "      <td>Salih Gursoy</td>\n",
       "      <td>There are so many types of pizza; you are surp...</td>\n",
       "      <td>dataset/taste/miss_pizza_salih_gursoy.png</td>\n",
       "      <td>5</td>\n",
       "      <td>taste</td>\n",
       "    </tr>\n",
       "    <tr>\n",
       "      <th>1096</th>\n",
       "      <td>Miss Pizza</td>\n",
       "      <td>Kemal Amangeldi</td>\n",
       "      <td>I tried the smoked ribeye pizza; the dough is ...</td>\n",
       "      <td>dataset/indoor_atmosphere/miss_pizza_kemal_ama...</td>\n",
       "      <td>5</td>\n",
       "      <td>indoor_atmosphere</td>\n",
       "    </tr>\n",
       "    <tr>\n",
       "      <th>1097</th>\n",
       "      <td>Miss Pizza</td>\n",
       "      <td>Ulkem Esen</td>\n",
       "      <td>Crowded and expensive place.</td>\n",
       "      <td>dataset/menu/miss_pizza_ulkem_esen.png</td>\n",
       "      <td>3</td>\n",
       "      <td>menu</td>\n",
       "    </tr>\n",
       "    <tr>\n",
       "      <th>1098</th>\n",
       "      <td>Miss Pizza</td>\n",
       "      <td>Ilkin Saymaz</td>\n",
       "      <td>No bad. It was very crowded; there was no ligh...</td>\n",
       "      <td>dataset/taste/miss_pizza_ilkin_saymaz.png</td>\n",
       "      <td>3</td>\n",
       "      <td>taste</td>\n",
       "    </tr>\n",
       "    <tr>\n",
       "      <th>1099</th>\n",
       "      <td>Miss Pizza</td>\n",
       "      <td>Samet Selcuk</td>\n",
       "      <td>Excellent pizza and fine wine. Both food and b...</td>\n",
       "      <td>dataset/outdoor_atmosphere/miss_pizza_samet_se...</td>\n",
       "      <td>4</td>\n",
       "      <td>outdoor_atmosphere</td>\n",
       "    </tr>\n",
       "  </tbody>\n",
       "</table>\n",
       "<p>1100 rows × 6 columns</p>\n",
       "</div>"
      ],
      "text/plain": [
       "                        business_name      author_name  \\\n",
       "0     Haci'nin Yeri - Yigit Lokantasi      Gulsum Akar   \n",
       "1     Haci'nin Yeri - Yigit Lokantasi    Oguzhan Cetin   \n",
       "2     Haci'nin Yeri - Yigit Lokantasi       Yasin Kuyu   \n",
       "3     Haci'nin Yeri - Yigit Lokantasi       Orhan Kapu   \n",
       "4     Haci'nin Yeri - Yigit Lokantasi       Ozgur Sati   \n",
       "...                               ...              ...   \n",
       "1095                       Miss Pizza     Salih Gursoy   \n",
       "1096                       Miss Pizza  Kemal Amangeldi   \n",
       "1097                       Miss Pizza       Ulkem Esen   \n",
       "1098                       Miss Pizza     Ilkin Saymaz   \n",
       "1099                       Miss Pizza     Samet Selcuk   \n",
       "\n",
       "                                                   text  \\\n",
       "0     We went to Marmaris with my wife for a holiday...   \n",
       "1     During my holiday in Marmaris we ate here to f...   \n",
       "2     Prices are very affordable. The menu in the ph...   \n",
       "3     Turkey's cheapest artisan restaurant and its f...   \n",
       "4     I don't know what you will look for in terms o...   \n",
       "...                                                 ...   \n",
       "1095  There are so many types of pizza; you are surp...   \n",
       "1096  I tried the smoked ribeye pizza; the dough is ...   \n",
       "1097                       Crowded and expensive place.   \n",
       "1098  No bad. It was very crowded; there was no ligh...   \n",
       "1099  Excellent pizza and fine wine. Both food and b...   \n",
       "\n",
       "                                                  photo  rating  \\\n",
       "0            dataset/taste/hacinin_yeri_gulsum_akar.png       5   \n",
       "1           dataset/menu/hacinin_yeri_oguzhan_cetin.png       4   \n",
       "2     dataset/outdoor_atmosphere/hacinin_yeri_yasin_...       3   \n",
       "3     dataset/indoor_atmosphere/hacinin_yeri_orhan_k...       5   \n",
       "4              dataset/menu/hacinin_yeri_ozgur_sati.png       3   \n",
       "...                                                 ...     ...   \n",
       "1095          dataset/taste/miss_pizza_salih_gursoy.png       5   \n",
       "1096  dataset/indoor_atmosphere/miss_pizza_kemal_ama...       5   \n",
       "1097             dataset/menu/miss_pizza_ulkem_esen.png       3   \n",
       "1098          dataset/taste/miss_pizza_ilkin_saymaz.png       3   \n",
       "1099  dataset/outdoor_atmosphere/miss_pizza_samet_se...       4   \n",
       "\n",
       "         rating_category  \n",
       "0                  taste  \n",
       "1                   menu  \n",
       "2     outdoor_atmosphere  \n",
       "3      indoor_atmosphere  \n",
       "4                   menu  \n",
       "...                  ...  \n",
       "1095               taste  \n",
       "1096   indoor_atmosphere  \n",
       "1097                menu  \n",
       "1098               taste  \n",
       "1099  outdoor_atmosphere  \n",
       "\n",
       "[1100 rows x 6 columns]"
      ]
     },
     "execution_count": 3,
     "metadata": {},
     "output_type": "execute_result"
    }
   ],
   "source": [
    "df"
   ]
  },
  {
   "cell_type": "code",
   "execution_count": 4,
   "metadata": {},
   "outputs": [
    {
     "name": "stdout",
     "output_type": "stream",
     "text": [
      "Positive Sentiment\n"
     ]
    }
   ],
   "source": [
    "from textblob import TextBlob\n",
    "\n",
    "text = \"I love this restaurant. The food is amazing!\"\n",
    "blob = TextBlob(text)\n",
    "sentiment = blob.sentiment.polarity\n",
    "\n",
    "if sentiment > 0:\n",
    "    print(\"Positive Sentiment\")\n",
    "elif sentiment == 0:\n",
    "    print(\"Neutral Sentiment\")\n",
    "else:\n",
    "    print(\"Negative Sentiment\")"
   ]
  },
  {
   "cell_type": "code",
   "execution_count": 5,
   "metadata": {},
   "outputs": [
    {
     "data": {
      "text/plain": [
       "0.625"
      ]
     },
     "execution_count": 5,
     "metadata": {},
     "output_type": "execute_result"
    }
   ],
   "source": [
    "sentiment"
   ]
  },
  {
   "cell_type": "code",
   "execution_count": 18,
   "metadata": {},
   "outputs": [],
   "source": [
    "df['sentiment'] = None\n",
    "\n",
    "for key, row in df.iterrows():\n",
    "    blob = TextBlob(row['text'])\n",
    "    df.at[key, 'sentiment'] = blob.sentiment.polarity\n",
    "    "
   ]
  },
  {
   "cell_type": "code",
   "execution_count": 14,
   "metadata": {},
   "outputs": [],
   "source": [
    "for key, row in df.iterrows():\n",
    "    blob = TextBlob(row['text'])\n",
    "    row['sentiment'] = blob.sentiment.polarity\n"
   ]
  },
  {
   "cell_type": "code",
   "execution_count": 19,
   "metadata": {},
   "outputs": [
    {
     "data": {
      "text/html": [
       "<div>\n",
       "<style scoped>\n",
       "    .dataframe tbody tr th:only-of-type {\n",
       "        vertical-align: middle;\n",
       "    }\n",
       "\n",
       "    .dataframe tbody tr th {\n",
       "        vertical-align: top;\n",
       "    }\n",
       "\n",
       "    .dataframe thead th {\n",
       "        text-align: right;\n",
       "    }\n",
       "</style>\n",
       "<table border=\"1\" class=\"dataframe\">\n",
       "  <thead>\n",
       "    <tr style=\"text-align: right;\">\n",
       "      <th></th>\n",
       "      <th>business_name</th>\n",
       "      <th>author_name</th>\n",
       "      <th>text</th>\n",
       "      <th>photo</th>\n",
       "      <th>rating</th>\n",
       "      <th>rating_category</th>\n",
       "      <th>sentiment</th>\n",
       "    </tr>\n",
       "  </thead>\n",
       "  <tbody>\n",
       "    <tr>\n",
       "      <th>0</th>\n",
       "      <td>Haci'nin Yeri - Yigit Lokantasi</td>\n",
       "      <td>Gulsum Akar</td>\n",
       "      <td>We went to Marmaris with my wife for a holiday...</td>\n",
       "      <td>dataset/taste/hacinin_yeri_gulsum_akar.png</td>\n",
       "      <td>5</td>\n",
       "      <td>taste</td>\n",
       "      <td>0.02619</td>\n",
       "    </tr>\n",
       "    <tr>\n",
       "      <th>1</th>\n",
       "      <td>Haci'nin Yeri - Yigit Lokantasi</td>\n",
       "      <td>Oguzhan Cetin</td>\n",
       "      <td>During my holiday in Marmaris we ate here to f...</td>\n",
       "      <td>dataset/menu/hacinin_yeri_oguzhan_cetin.png</td>\n",
       "      <td>4</td>\n",
       "      <td>menu</td>\n",
       "      <td>0.164583</td>\n",
       "    </tr>\n",
       "    <tr>\n",
       "      <th>2</th>\n",
       "      <td>Haci'nin Yeri - Yigit Lokantasi</td>\n",
       "      <td>Yasin Kuyu</td>\n",
       "      <td>Prices are very affordable. The menu in the ph...</td>\n",
       "      <td>dataset/outdoor_atmosphere/hacinin_yeri_yasin_...</td>\n",
       "      <td>3</td>\n",
       "      <td>outdoor_atmosphere</td>\n",
       "      <td>0.275</td>\n",
       "    </tr>\n",
       "    <tr>\n",
       "      <th>3</th>\n",
       "      <td>Haci'nin Yeri - Yigit Lokantasi</td>\n",
       "      <td>Orhan Kapu</td>\n",
       "      <td>Turkey's cheapest artisan restaurant and its f...</td>\n",
       "      <td>dataset/indoor_atmosphere/hacinin_yeri_orhan_k...</td>\n",
       "      <td>5</td>\n",
       "      <td>indoor_atmosphere</td>\n",
       "      <td>1.0</td>\n",
       "    </tr>\n",
       "    <tr>\n",
       "      <th>4</th>\n",
       "      <td>Haci'nin Yeri - Yigit Lokantasi</td>\n",
       "      <td>Ozgur Sati</td>\n",
       "      <td>I don't know what you will look for in terms o...</td>\n",
       "      <td>dataset/menu/hacinin_yeri_ozgur_sati.png</td>\n",
       "      <td>3</td>\n",
       "      <td>menu</td>\n",
       "      <td>0.0</td>\n",
       "    </tr>\n",
       "    <tr>\n",
       "      <th>...</th>\n",
       "      <td>...</td>\n",
       "      <td>...</td>\n",
       "      <td>...</td>\n",
       "      <td>...</td>\n",
       "      <td>...</td>\n",
       "      <td>...</td>\n",
       "      <td>...</td>\n",
       "    </tr>\n",
       "    <tr>\n",
       "      <th>1095</th>\n",
       "      <td>Miss Pizza</td>\n",
       "      <td>Salih Gursoy</td>\n",
       "      <td>There are so many types of pizza; you are surp...</td>\n",
       "      <td>dataset/taste/miss_pizza_salih_gursoy.png</td>\n",
       "      <td>5</td>\n",
       "      <td>taste</td>\n",
       "      <td>0.56875</td>\n",
       "    </tr>\n",
       "    <tr>\n",
       "      <th>1096</th>\n",
       "      <td>Miss Pizza</td>\n",
       "      <td>Kemal Amangeldi</td>\n",
       "      <td>I tried the smoked ribeye pizza; the dough is ...</td>\n",
       "      <td>dataset/indoor_atmosphere/miss_pizza_kemal_ama...</td>\n",
       "      <td>5</td>\n",
       "      <td>indoor_atmosphere</td>\n",
       "      <td>-0.1</td>\n",
       "    </tr>\n",
       "    <tr>\n",
       "      <th>1097</th>\n",
       "      <td>Miss Pizza</td>\n",
       "      <td>Ulkem Esen</td>\n",
       "      <td>Crowded and expensive place.</td>\n",
       "      <td>dataset/menu/miss_pizza_ulkem_esen.png</td>\n",
       "      <td>3</td>\n",
       "      <td>menu</td>\n",
       "      <td>-0.5</td>\n",
       "    </tr>\n",
       "    <tr>\n",
       "      <th>1098</th>\n",
       "      <td>Miss Pizza</td>\n",
       "      <td>Ilkin Saymaz</td>\n",
       "      <td>No bad. It was very crowded; there was no ligh...</td>\n",
       "      <td>dataset/taste/miss_pizza_ilkin_saymaz.png</td>\n",
       "      <td>3</td>\n",
       "      <td>taste</td>\n",
       "      <td>0.183333</td>\n",
       "    </tr>\n",
       "    <tr>\n",
       "      <th>1099</th>\n",
       "      <td>Miss Pizza</td>\n",
       "      <td>Samet Selcuk</td>\n",
       "      <td>Excellent pizza and fine wine. Both food and b...</td>\n",
       "      <td>dataset/outdoor_atmosphere/miss_pizza_samet_se...</td>\n",
       "      <td>4</td>\n",
       "      <td>outdoor_atmosphere</td>\n",
       "      <td>0.543651</td>\n",
       "    </tr>\n",
       "  </tbody>\n",
       "</table>\n",
       "<p>1100 rows × 7 columns</p>\n",
       "</div>"
      ],
      "text/plain": [
       "                        business_name      author_name  \\\n",
       "0     Haci'nin Yeri - Yigit Lokantasi      Gulsum Akar   \n",
       "1     Haci'nin Yeri - Yigit Lokantasi    Oguzhan Cetin   \n",
       "2     Haci'nin Yeri - Yigit Lokantasi       Yasin Kuyu   \n",
       "3     Haci'nin Yeri - Yigit Lokantasi       Orhan Kapu   \n",
       "4     Haci'nin Yeri - Yigit Lokantasi       Ozgur Sati   \n",
       "...                               ...              ...   \n",
       "1095                       Miss Pizza     Salih Gursoy   \n",
       "1096                       Miss Pizza  Kemal Amangeldi   \n",
       "1097                       Miss Pizza       Ulkem Esen   \n",
       "1098                       Miss Pizza     Ilkin Saymaz   \n",
       "1099                       Miss Pizza     Samet Selcuk   \n",
       "\n",
       "                                                   text  \\\n",
       "0     We went to Marmaris with my wife for a holiday...   \n",
       "1     During my holiday in Marmaris we ate here to f...   \n",
       "2     Prices are very affordable. The menu in the ph...   \n",
       "3     Turkey's cheapest artisan restaurant and its f...   \n",
       "4     I don't know what you will look for in terms o...   \n",
       "...                                                 ...   \n",
       "1095  There are so many types of pizza; you are surp...   \n",
       "1096  I tried the smoked ribeye pizza; the dough is ...   \n",
       "1097                       Crowded and expensive place.   \n",
       "1098  No bad. It was very crowded; there was no ligh...   \n",
       "1099  Excellent pizza and fine wine. Both food and b...   \n",
       "\n",
       "                                                  photo  rating  \\\n",
       "0            dataset/taste/hacinin_yeri_gulsum_akar.png       5   \n",
       "1           dataset/menu/hacinin_yeri_oguzhan_cetin.png       4   \n",
       "2     dataset/outdoor_atmosphere/hacinin_yeri_yasin_...       3   \n",
       "3     dataset/indoor_atmosphere/hacinin_yeri_orhan_k...       5   \n",
       "4              dataset/menu/hacinin_yeri_ozgur_sati.png       3   \n",
       "...                                                 ...     ...   \n",
       "1095          dataset/taste/miss_pizza_salih_gursoy.png       5   \n",
       "1096  dataset/indoor_atmosphere/miss_pizza_kemal_ama...       5   \n",
       "1097             dataset/menu/miss_pizza_ulkem_esen.png       3   \n",
       "1098          dataset/taste/miss_pizza_ilkin_saymaz.png       3   \n",
       "1099  dataset/outdoor_atmosphere/miss_pizza_samet_se...       4   \n",
       "\n",
       "         rating_category sentiment  \n",
       "0                  taste   0.02619  \n",
       "1                   menu  0.164583  \n",
       "2     outdoor_atmosphere     0.275  \n",
       "3      indoor_atmosphere       1.0  \n",
       "4                   menu       0.0  \n",
       "...                  ...       ...  \n",
       "1095               taste   0.56875  \n",
       "1096   indoor_atmosphere      -0.1  \n",
       "1097                menu      -0.5  \n",
       "1098               taste  0.183333  \n",
       "1099  outdoor_atmosphere  0.543651  \n",
       "\n",
       "[1100 rows x 7 columns]"
      ]
     },
     "execution_count": 19,
     "metadata": {},
     "output_type": "execute_result"
    }
   ],
   "source": [
    "df"
   ]
  },
  {
   "cell_type": "code",
   "execution_count": 76,
   "metadata": {},
   "outputs": [
    {
     "data": {
      "text/plain": [
       "Text(0, 0.5, 'Rating')"
      ]
     },
     "execution_count": 76,
     "metadata": {},
     "output_type": "execute_result"
    },
    {
     "data": {
      "image/png": "[encoded data removed]",
      "text/plain": [
       "<Figure size 1200x1000 with 1 Axes>"
      ]
     },
     "metadata": {},
     "output_type": "display_data"
    }
   ],
   "source": [
    "import matplotlib.pyplot as plt\n",
    "import numpy as np\n",
    "\n",
    "plt.figure(figsize=(12, 10))\n",
    "\n",
    "X=df['sentiment'].astype(float)\n",
    "Y=df['rating']\n",
    "plt.scatter(X,Y)\n",
    "\n",
    "plt.ylim(0,6)\n",
    "plt.plot(X, m*X + b, color='red', label=f'Linear Fit: y = {m:.2f}x + {b:.2f}')\n",
    "\n",
    "plt.xlabel('Sentiment')\n",
    "plt.ylabel('Rating')\n"
   ]
  },
  {
   "cell_type": "code",
   "execution_count": 37,
   "metadata": {},
   "outputs": [
    {
     "data": {
      "text/plain": [
       "array([-0.375, -0.24166666666666667, -0.375, -0.2833333333333333, -1.0,\n",
       "       -0.2371428571428571, -1.0, -0.13124999999999998, 0.0, 0.0, 0.16,\n",
       "       -0.07000000000000003, 0.25, 0.19999999999999998,\n",
       "       -0.11944444444444445, 0.16, 0.375, -0.15999999999999998,\n",
       "       0.033333333333333326, 0.013888888888888886, 0.0, -1.0, -1.0,\n",
       "       -0.05333333333333333, 0.08035714285714285, 0.2, 0.20625, -1.0,\n",
       "       -0.28888888888888886, 0.2375, -0.39444444444444443, -0.525,\n",
       "       -0.9099999999999998, -0.12178571428571427, 0.0,\n",
       "       -0.09999999999999999, 0.041666666666666664, -0.6999999999999998,\n",
       "       -0.08333333333333333, -0.3499999999999999, 0.05333333333333334,\n",
       "       -0.9099999999999998, -0.23076923076923078, 0.11399999999999999,\n",
       "       -0.2899999999999999, -0.6, 0.3, 0.06666666666666668, 0.0,\n",
       "       0.038888888888888896, -0.75, 0.22666666666666666, -0.4, -0.26, 0.0,\n",
       "       0.0, -0.5, 0.4375, -0.14583333333333334, 0.5714285714285714,\n",
       "       0.45999999999999996, -0.65, 0.35, -0.1499999999999999, -0.5,\n",
       "       0.39249999999999996, 0.0, -0.9549999999999998, 0.0, 0.0,\n",
       "       -0.029999999999999916, 0.03333333333333333, -0.3875,\n",
       "       -0.8333333333333334, -0.5999999999999999, 0.17222222222222222,\n",
       "       0.07500000000000002, -0.15000000000000002, -0.26923076923076916,\n",
       "       -0.1], dtype=object)"
      ]
     },
     "execution_count": 37,
     "metadata": {},
     "output_type": "execute_result"
    }
   ],
   "source": [
    "np.array(df[df['rating'] == 1]['sentiment'])"
   ]
  },
  {
   "cell_type": "code",
   "execution_count": 74,
   "metadata": {},
   "outputs": [
    {
     "data": {
      "image/png": "[encoded data removed]",
      "text/plain": [
       "<Figure size 1000x700 with 1 Axes>"
      ]
     },
     "metadata": {},
     "output_type": "display_data"
    }
   ],
   "source": [
    "# Import libraries\n",
    "import matplotlib.pyplot as plt\n",
    "import numpy as np\n",
    " \n",
    " \n",
    "# Creating dataset\n",
    "np.random.seed(10)\n",
    " \n",
    "data_1 = np.array(df[df['rating'] == 1]['sentiment'])\n",
    "data_2 = np.array(df[df['rating'] == 2]['sentiment'])\n",
    "data_3 = np.array(df[df['rating'] == 3]['sentiment'])\n",
    "data_4 = np.array(df[df['rating'] == 4]['sentiment'])\n",
    "data_5 = np.array(df[df['rating'] == 5]['sentiment'])\n",
    "\n",
    "data = [data_1, data_2, data_3, data_4, data_5]\n",
    "\n",
    "X = np.array([ np.median(data_1),  np.median(data_2),  np.median(data_3),  np.median(data_4),  np.median(data_5)])\n",
    "Y = np.array([1,2,3,4,5])\n",
    "\n",
    "m, b = np.polyfit(X, Y, 1)\n",
    "\n",
    " \n",
    "fig = plt.figure(figsize =(10, 7))\n",
    "\n",
    "\n",
    "ax = fig.add_axes([0, 0, 1, 1], facecolor= '#FDF7F4')\n",
    "X = np.array([-1,1])\n",
    "\n",
    "\n",
    "ax.plot(X, m*X + b, color='orange', label=f'Linear Fit: y = {m:.2f}x + {b:.2f}')\n",
    "bp = ax.boxplot(data, vert = 0)\n",
    "\n",
    "\n",
    "plt.xlabel('Sentiment')\n",
    "plt.ylabel('Rating')\n",
    "plt.grid(True, linestyle='--')\n",
    "plt.sho\n",
    "\n",
    "#plt.xlim()\n",
    "plt.ylim(0,6)\n",
    "\n",
    "# show plot\n",
    "plt.show()"
   ]
  },
  {
   "cell_type": "code",
   "execution_count": 53,
   "metadata": {},
   "outputs": [
    {
     "data": {
      "text/plain": [
       "0.14081323135843488"
      ]
     },
     "execution_count": 53,
     "metadata": {},
     "output_type": "execute_result"
    }
   ],
   "source": [
    "np.median(X)"
   ]
  },
  {
   "cell_type": "code",
   "execution_count": 42,
   "metadata": {},
   "outputs": [
    {
     "data": {
      "text/plain": [
       "-0.17477192460317453"
      ]
     },
     "execution_count": 42,
     "metadata": {},
     "output_type": "execute_result"
    }
   ],
   "source": [
    " data_1.mean()"
   ]
  },
  {
   "cell_type": "code",
   "execution_count": 77,
   "metadata": {},
   "outputs": [
    {
     "data": {
      "text/plain": [
       "\"We went to Marmaris with my wife for a holiday. We chose this restaurant as a place for dinner based on the reviews and because we wanted juicy food. When we first went there was a serious queue. You proceed by taking the food you want in the form of an open buffet. Both vegetable dishes and meat dishes were plentiful. There was also dessert for those who wanted it. After you get what you want you pay at the cashier. They don't go through cards they work in cash. There was a lot of food variety. And the food prices were unbelievably cheap. We paid only 84 TL for all the meals here. It included buttermilk and bread. But unfortunately I can't say it's too clean as a place..\""
      ]
     },
     "execution_count": 77,
     "metadata": {},
     "output_type": "execute_result"
    }
   ],
   "source": [
    "df['text'][0]"
   ]
  },
  {
   "cell_type": "code",
   "execution_count": 80,
   "metadata": {},
   "outputs": [
    {
     "name": "stdout",
     "output_type": "stream",
     "text": [
      "Noun: marmaris, Frequency: 1\n",
      "Noun: wife, Frequency: 1\n",
      "Noun: holiday, Frequency: 1\n",
      "Noun: restaurant, Frequency: 1\n",
      "Noun: place, Frequency: 2\n",
      "Noun: dinner, Frequency: 1\n",
      "Noun: reviews, Frequency: 1\n",
      "Noun: juicy, Frequency: 1\n",
      "Noun: food, Frequency: 4\n",
      "Noun: queue, Frequency: 1\n",
      "Noun: form, Frequency: 1\n",
      "Noun: buffet, Frequency: 1\n",
      "Noun: dishes, Frequency: 2\n",
      "Noun: meat, Frequency: 1\n",
      "Noun: cashier, Frequency: 1\n",
      "Noun: cards, Frequency: 1\n",
      "Noun: cash, Frequency: 1\n",
      "Noun: lot, Frequency: 1\n",
      "Noun: variety, Frequency: 1\n",
      "Noun: prices, Frequency: 1\n",
      "Noun: tl, Frequency: 1\n",
      "Noun: meals, Frequency: 1\n",
      "Noun: buttermilk, Frequency: 1\n",
      "Noun: bread, Frequency: 1\n",
      "Noun: .., Frequency: 1\n"
     ]
    }
   ],
   "source": [
    "from textblob import TextBlob\n",
    "from collections import Counter\n",
    "\n",
    "text = df['text'][0]\n",
    "\n",
    "# Create a TextBlob object\n",
    "blob = TextBlob(text)\n",
    "\n",
    "# Initialize a Counter object to keep track of noun frequencies\n",
    "noun_freq = Counter()\n",
    "\n",
    "# Process each word and its part-of-speech tag\n",
    "for word, pos in blob.tags:\n",
    "    if pos.startswith('NN'):  # Check if the POS tag is for a noun\n",
    "        noun_freq[word.lower()] += 1  # Increment the count for the noun in lowercase to ensure case-insensitivity\n",
    "\n",
    "# Print the nouns and their frequencies\n",
    "for noun, freq in noun_freq.items():\n",
    "    print(f\"Noun: {noun}, Frequency: {freq}\")\n"
   ]
  },
  {
   "cell_type": "code",
   "execution_count": 79,
   "metadata": {},
   "outputs": [
    {
     "name": "stderr",
     "output_type": "stream",
     "text": [
      "[nltk_data] Downloading package averaged_perceptron_tagger to\n",
      "[nltk_data]     /Users/sherryyang/nltk_data...\n",
      "[nltk_data]   Unzipping taggers/averaged_perceptron_tagger.zip.\n",
      "[nltk_data] Downloading package punkt to\n",
      "[nltk_data]     /Users/sherryyang/nltk_data...\n",
      "[nltk_data]   Unzipping tokenizers/punkt.zip.\n"
     ]
    },
    {
     "data": {
      "text/plain": [
       "True"
      ]
     },
     "execution_count": 79,
     "metadata": {},
     "output_type": "execute_result"
    }
   ],
   "source": [
    "import nltk\n",
    "nltk.download('averaged_perceptron_tagger')\n",
    "nltk.download('punkt')\n"
   ]
  },
  {
   "cell_type": "code",
   "execution_count": 81,
   "metadata": {},
   "outputs": [
    {
     "name": "stderr",
     "output_type": "stream",
     "text": [
      "[nltk_data] Downloading package wordnet to\n",
      "[nltk_data]     /Users/sherryyang/nltk_data...\n",
      "[nltk_data] Downloading package omw-1.4 to\n",
      "[nltk_data]     /Users/sherryyang/nltk_data...\n"
     ]
    },
    {
     "name": "stdout",
     "output_type": "stream",
     "text": [
      "False\n",
      "False\n"
     ]
    },
    {
     "name": "stderr",
     "output_type": "stream",
     "text": [
      "/Users/sherryyang/anaconda3/envs/cse481/lib/python3.10/site-packages/nltk/corpus/reader/wordnet.py:604: UserWarning: Discarded redundant search for Synset('entity.n.01') at depth 6\n",
      "  for synset in acyclic_breadth_first(self, rel, depth):\n",
      "/Users/sherryyang/anaconda3/envs/cse481/lib/python3.10/site-packages/nltk/corpus/reader/wordnet.py:604: UserWarning: Discarded redundant search for Synset('physical_entity.n.01') at depth 7\n",
      "  for synset in acyclic_breadth_first(self, rel, depth):\n",
      "/Users/sherryyang/anaconda3/envs/cse481/lib/python3.10/site-packages/nltk/corpus/reader/wordnet.py:604: UserWarning: Discarded redundant search for Synset('communication.n.02') at depth 5\n",
      "  for synset in acyclic_breadth_first(self, rel, depth):\n"
     ]
    }
   ],
   "source": [
    "import nltk\n",
    "from nltk.corpus import wordnet as wn\n",
    "\n",
    "nltk.download('wordnet')\n",
    "nltk.download('omw-1.4')\n",
    "\n",
    "# Check if a noun is a type of food\n",
    "def is_food(noun):\n",
    "    food_synsets = wn.synset('food.n.02')\n",
    "    noun_synsets = wn.synsets(noun, pos=wn.NOUN)\n",
    "\n",
    "    for noun_synset in noun_synsets:\n",
    "        if food_synsets in noun_synset.closure(lambda s:s.hypernyms()):\n",
    "            return True\n",
    "    return False\n",
    "\n",
    "print(is_food('pizza'))  # Most likely returns True\n",
    "print(is_food('rock'))   # Most likely returns False\n"
   ]
  },
  {
   "cell_type": "code",
   "execution_count": 86,
   "metadata": {},
   "outputs": [
    {
     "name": "stdout",
     "output_type": "stream",
     "text": [
      "False\n"
     ]
    },
    {
     "name": "stderr",
     "output_type": "stream",
     "text": [
      "/Users/sherryyang/anaconda3/envs/cse481/lib/python3.10/site-packages/nltk/corpus/reader/wordnet.py:604: UserWarning: Discarded redundant search for Synset('artifact.n.01') at depth 5\n",
      "  for synset in acyclic_breadth_first(self, rel, depth):\n",
      "/Users/sherryyang/anaconda3/envs/cse481/lib/python3.10/site-packages/nltk/corpus/reader/wordnet.py:604: UserWarning: Discarded redundant search for Synset('physical_entity.n.01') at depth 8\n",
      "  for synset in acyclic_breadth_first(self, rel, depth):\n"
     ]
    }
   ],
   "source": [
    "print(is_food('dishes'))"
   ]
  },
  {
   "cell_type": "code",
   "execution_count": null,
   "metadata": {},
   "outputs": [],
   "source": []
  }
 ],
 "metadata": {
  "kernelspec": {
   "display_name": "cse481",
   "language": "python",
   "name": "python3"
  },
  "language_info": {
   "codemirror_mode": {
    "name": "ipython",
    "version": 3
   },
   "file_extension": ".py",
   "mimetype": "text/x-python",
   "name": "python",
   "nbconvert_exporter": "python",
   "pygments_lexer": "ipython3",
   "version": "3.10.13"
  },
  "orig_nbformat": 4
 },
 "nbformat": 4,
 "nbformat_minor": 2
}
