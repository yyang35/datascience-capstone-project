{
 "cells": [
  {
   "cell_type": "code",
   "execution_count": null,
   "metadata": {},
   "outputs": [],
   "source": [
    "import pandas as pd"
   ]
  },
  {
   "cell_type": "code",
   "execution_count": null,
   "metadata": {},
   "outputs": [],
   "source": [
    "import json\n",
    "data = []\n",
    "with open('yelp_academic_dataset_business.json', 'r') as file:\n",
    "    for line in file:\n",
    "        data.append(json.loads(line))\n",
    "\n",
    "df = pd.DataFrame(data)"
   ]
  },
  {
   "cell_type": "code",
   "execution_count": null,
   "metadata": {},
   "outputs": [],
   "source": [
    "# Following for reading WA state data only, but not useful now\n",
    "\n",
    "\"\"\" \n",
    "import json\n",
    "import pandas as pd\n",
    "\n",
    "data = []\n",
    "\n",
    "with open('yelp_academic_dataset_business.json', 'r') as file:\n",
    "    for line in file:\n",
    "        business = json.loads(line)\n",
    "        if business['state'] == 'WA':  # Check if 'State' is 'WA'\n",
    "            data.append(business)\n",
    "\n",
    "df = pd.DataFrame(data)\n",
    "\"\"\""
   ]
  },
  {
   "cell_type": "code",
   "execution_count": null,
   "metadata": {},
   "outputs": [],
   "source": [
    "df_sb = df[df[\"city\"] == 'Santa Barbara']"
   ]
  },
  {
   "cell_type": "code",
   "execution_count": null,
   "metadata": {},
   "outputs": [],
   "source": [
    "import numpy as np \n",
    "\n",
    "# Downtown SB location: 34.4235° N, 119.7035° W\n",
    "\n",
    "df_sb['distance'] = np.sqrt((df_sb['latitude'] - 34.4235) **2 + (df_sb['longitude']+119.7035) ** 2)\n"
   ]
  },
  {
   "cell_type": "code",
   "execution_count": null,
   "metadata": {},
   "outputs": [],
   "source": [
    "df_sb"
   ]
  },
  {
   "cell_type": "code",
   "execution_count": null,
   "metadata": {},
   "outputs": [],
   "source": [
    "import matplotlib.pyplot as plt\n",
    "\n",
    "df_sb.sort_values(by='review_count')\n",
    "plt.figure(figsize=(12, 4))\n",
    "plt.grid(True, linestyle='--')\n",
    "\n",
    "\n",
    "plt.ylabel('Starts')\n",
    "plt.xlabel('Distance(km)')\n",
    "plt.scatter( df_sb['distance'] , df_sb['stars'],  c=  np.log((df_sb['review_count'] / np.max(df_sb['review_count']))), cmap='magma', facecolor='#E1E1E1')\n",
    "plt.title('Stars vs DIstance to downtown')\n"
   ]
  },
  {
   "cell_type": "code",
   "execution_count": null,
   "metadata": {},
   "outputs": [],
   "source": [
    "import matplotlib.pyplot as plt\n",
    "\n",
    "plt.figure(figsize=(12, 8))\n",
    "\n",
    "som = 1 / df_sb['distance']\n",
    "plt.ylabel('Review count')\n",
    "plt.xlabel('Distance(Km)')\n",
    "plt.title('Review count vs Distance to downtown')\n",
    "plt.grid(True, linestyle='--')\n",
    "\n",
    "plt.scatter(som, df_sb['review_count'] , c=df_sb['stars'], cmap='magma', s=5, facecolor='E1E1E1')\n",
    "\n",
    "# Add a color bar to show the mapping of stars to colors\n",
    "color_bar = plt.colorbar()\n",
    "color_bar.set_label('Start Values')\n",
    "\n",
    "plt.show()"
   ]
  },
  {
   "cell_type": "code",
   "execution_count": null,
   "metadata": {},
   "outputs": [],
   "source": [
    "import matplotlib.pyplot as plt\n",
    "\n",
    "plt.figure(figsize=(12, 8))\n",
    "\n",
    "plt.ylabel('Stars')\n",
    "plt.xlabel('Review count')\n",
    "plt.title('Stars vs Review count')\n",
    "plt.grid(True, linestyle='--')\n",
    "\n",
    "plt.scatter( df['review_count'], df['stars'], s=5)\n",
    "\n",
    "\n",
    "plt.show()"
   ]
  },
  {
   "cell_type": "code",
   "execution_count": null,
   "metadata": {},
   "outputs": [],
   "source": [
    "def gaussian(x, A, mu, sigma):\n",
    "    return A * np.exp(-(x - mu)**2 / (2 * sigma**2))\n"
   ]
  },
  {
   "cell_type": "code",
   "execution_count": null,
   "metadata": {},
   "outputs": [],
   "source": [
    "import numpy as np\n",
    "import matplotlib.pyplot as plt\n",
    "from scipy.optimize import curve_fit\n",
    "\n",
    "star_counts = df['stars'].value_counts().sort_index()\n",
    "\n",
    "\n",
    "params, covariance = curve_fit(gaussian, star_counts.index, star_counts.values)\n",
    "A_fit, mu_fit, sigma_fit = params\n",
    "\n",
    "x_fit = np.linspace(0, 6, 1000)\n",
    "y_fit = gaussian(x_fit, A_fit, mu_fit, sigma_fit)\n",
    "\n",
    "plt.grid(True, linestyle='--',  alpha=0.3)\n",
    "\n",
    "plt.plot(x_fit, y_fit, 'r-', label='Fitted Gaussian', linewidth=2)\n",
    "plt.bar(star_counts.index, star_counts.values, tick_label=star_counts.index, width=0.3, align='center')\n",
    "plt.xlim(0.5, 5.3)\n",
    "plt.xlabel('Star Rating')\n",
    "plt.ylabel('Number of Restaurants')\n",
    "plt.title('Restaurant Star Ratings')\n",
    "plt.show()\n"
   ]
  },
  {
   "cell_type": "code",
   "execution_count": null,
   "metadata": {},
   "outputs": [],
   "source": [
    "import numpy as np\n",
    "import matplotlib.pyplot as plt\n",
    "from scipy.optimize import curve_fit\n",
    "\n",
    "star_counts = df_sb['stars'].value_counts().sort_index()\n",
    "\n",
    "\n",
    "params, covariance = curve_fit(gaussian, star_counts.index, star_counts.values)\n",
    "A_fit, mu_fit, sigma_fit = params\n",
    "\n",
    "x_fit = np.linspace(0, 6, 1000)\n",
    "y_fit = gaussian(x_fit, A_fit, mu_fit, sigma_fit)\n",
    "\n",
    "plt.grid(True, linestyle='--',  alpha=0.3)\n",
    "\n",
    "plt.plot(x_fit, y_fit, 'r-', label='Fitted Gaussian', linewidth=2)\n",
    "plt.bar(star_counts.index, star_counts.values, tick_label=star_counts.index, width=0.3, align='center')\n",
    "plt.xlim(0.5, 5.3)\n",
    "plt.xlabel('Star Rating')\n",
    "plt.ylabel('Number of Restaurants')\n",
    "plt.title('Restaurant Star Ratings')\n",
    "plt.show()\n"
   ]
  },
  {
   "cell_type": "code",
   "execution_count": null,
   "metadata": {},
   "outputs": [],
   "source": [
    "distance_slices = [0,1,2,4,8,16,100]\n",
    "df_sb['distance_km'] = df_sb['distance'] * 111\n",
    "\n",
    "# Loop through distance slices\n",
    "for i in range(len(distance_slices) - 1):\n",
    "    # Define the current distance range\n",
    "    min_distance = distance_slices[i]\n",
    "    max_distance = distance_slices[i + 1]\n",
    "    \n",
    "    # Filter the DataFrame for the current distance range\n",
    "    filtered_df = df_sb[(df_sb['distance_km'] >= min_distance) & (df_sb['distance_km'] < max_distance)]\n",
    "    \n",
    "    # Count the number of restaurants for each star rating in the filtered DataFrame\n",
    "    star_counts = filtered_df['stars'].value_counts().sort_index()\n",
    "    \n",
    "    params, covariance = curve_fit(gaussian, star_counts.index, star_counts.values)\n",
    "    A_fit, mu_fit, sigma_fit = params\n",
    "\n",
    "    x_fit = np.linspace(0, 6, 1000)\n",
    "    y_fit = gaussian(x_fit, A_fit, mu_fit, sigma_fit)\n",
    "\n",
    "\n",
    "    plt.figure(figsize=(8, 6))\n",
    "    plt.bar(star_counts.index, star_counts.values, tick_label=star_counts.index, width=0.6, align='center')\n",
    "    plt.plot(x_fit, y_fit, 'r-', label='Fitted Gaussian', linewidth=2)\n",
    "    plt.xlim(0.5, 5.3)\n",
    "    plt.xlabel('Star Rating')\n",
    "    plt.ylabel('Number of Restaurants')\n",
    "    plt.title(f'Restaurant Star Ratings ({min_distance} to {max_distance} km)')\n",
    "    plt.grid(True, linestyle='--', alpha=0.7)\n",
    "    plt.text(0, 10, f'mu: {mu_fit:.2f}, sigma: {sigma_fit:.2f}')\n",
    "    plt.show()\n"
   ]
  },
  {
   "cell_type": "code",
   "execution_count": null,
   "metadata": {},
   "outputs": [],
   "source": [
    "import numpy as np\n",
    "import matplotlib.pyplot as plt\n",
    "from scipy.optimize import curve_fit\n",
    "\n",
    "# Loop through distance slices\n",
    "for i in range(len(distance_slices) - 1):\n",
    "    # Define the current distance range\n",
    "    min_distance = distance_slices[i]\n",
    "    max_distance = distance_slices[i + 1]\n",
    "    \n",
    "    # Filter the DataFrame for the current distance range\n",
    "    filtered_df = df_sb[(df_sb['distance_km'] >= min_distance) & (df_sb['distance_km'] < max_distance)]\n",
    "    \n",
    "    # Histogram of review counts in the filtered DataFrame\n",
    "    n, bins, _ = plt.hist(filtered_df['review_count'], bins=30, alpha=0.6, label='Histogram')\n",
    "    mean = np.mean(filtered_df['review_count'])\n",
    "    \n",
    "    plt.xlabel('Review Count')\n",
    "    plt.ylabel('Density')\n",
    "    plt.title(f'Restaurant Review Counts ({min_distance} to {max_distance} km)')\n",
    "    plt.grid(True, linestyle='--', alpha=0.7)\n",
    "    plt.text(min(x_fit), max(n)*0.9, f'mu:{mean}')\n",
    "    plt.legend()\n",
    "    plt.show()\n"
   ]
  },
  {
   "cell_type": "code",
   "execution_count": null,
   "metadata": {},
   "outputs": [],
   "source": [
    "import matplotlib.pyplot as plt\n",
    "\n",
    "plt.figure(figsize=(12, 10))\n",
    "\n",
    "plt.ylabel('Review count')\n",
    "plt.xlabel('Distance')\n",
    "plt.title('Review count vs Distance to downtown')\n",
    "\n",
    "plt.scatter( np.log(df_sb['distance']) , np.log(df_sb['review_count']) , c=df_sb['stars'], cmap='magma', s=5)\n",
    "\n",
    "\n",
    "# Add a color bar to show the mapping of values to colors\n",
    "color_bar = plt.colorbar()\n",
    "color_bar.set_label('Start Values')\n",
    "\n",
    "plt.show()"
   ]
  },
  {
   "cell_type": "code",
   "execution_count": null,
   "metadata": {},
   "outputs": [],
   "source": [
    "import matplotlib.pyplot as plt\n",
    "\n",
    "df_closer.sort_values(by='review_count')\n",
    "plt.figure(figsize=(12, 4))\n",
    "plt.grid(True, linestyle='--')\n",
    "\n",
    "\n",
    "plt.ylabel('Starts')\n",
    "plt.xlabel('Distance(km)')\n",
    "plt.scatter( df_sb['distance'] , df_sb['stars'],  c=  np.log((df_sb['review_count'] / np.max(df_sb['review_count']))), cmap='magma', facecolor='#E1E1E1')\n",
    "plt.title('Stars vs DIstance to downtown')"
   ]
  },
  {
   "cell_type": "code",
   "execution_count": null,
   "metadata": {},
   "outputs": [],
   "source": [
    "distance_slices = [0,1,2,4,8,16,100]\n",
    "df_sb['distance_km'] = df_sb['distance'] * 111\n",
    "\n",
    "# Loop through distance slices\n",
    "for i in range(len(distance_slices) - 1):\n",
    "    # Define the current distance range\n",
    "    min_distance = distance_slices[i]\n",
    "    max_distance = distance_slices[i + 1]\n",
    "    \n",
    "    # Filter the DataFrame for the current distance range\n",
    "    filtered_df = df_sb[(df_sb['distance_km'] >= min_distance) & (df_sb['distance_km'] < max_distance)]\n",
    "    \n",
    "    print(np.mean( filtered_df['review_count']))"
   ]
  }
 ],
 "metadata": {
  "kernelspec": {
   "display_name": "omnipose",
   "language": "python",
   "name": "python3"
  },
  "language_info": {
   "codemirror_mode": {
    "name": "ipython",
    "version": 3
   },
   "file_extension": ".py",
   "mimetype": "text/x-python",
   "name": "python",
   "nbconvert_exporter": "python",
   "pygments_lexer": "ipython3",
   "version": "3.10.12"
  }
 },
 "nbformat": 4,
 "nbformat_minor": 2
}
