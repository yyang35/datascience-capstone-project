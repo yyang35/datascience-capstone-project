{
 "cells": [
  {
   "cell_type": "code",
   "execution_count": null,
   "id": "31bb591c",
   "metadata": {},
   "outputs": [],
   "source": [
    "from geopy.adapters import AioHTTPAdapter\n",
    "from geopy.geocoders import Nominatim\n",
    "\n",
    "async with Nominatim(\n",
    "    user_agent=\"SherryYang_test\",\n",
    "    adapter_factory=AioHTTPAdapter,\n",
    ") as geolocator:\n",
    "    location = await geolocator.geocode(\"175 5th Avenue NYC\")\n",
    "    print(location.latitude, location.longitude)"
   ]
  },
  {
   "cell_type": "code",
   "execution_count": null,
   "id": "9750a29b",
   "metadata": {},
   "outputs": [],
   "source": [
    "import pandas as pd\n",
    "import numpy as np \n",
    "\n",
    "\n",
    "rate_df = pd.read_csv('Restaurants_Seattle.csv')\n",
    "hour_df = pd.read_csv('Restaurants_Seattle_Hours.csv')\n",
    "\n"
   ]
  },
  {
   "cell_type": "code",
   "execution_count": null,
   "id": "76e1e964",
   "metadata": {},
   "outputs": [],
   "source": [
    "hour_df"
   ]
  },
  {
   "cell_type": "code",
   "execution_count": null,
   "id": "0ac9958a",
   "metadata": {},
   "outputs": [],
   "source": [
    "for index, row in hour_df.iterrows():\n",
    "    address = row['Address']\n",
    "    geolocator = Nominatim(user_agent=\"sherryYang\")\n",
    "    location = geolocator.geocode(address, timeout=100)\n",
    "    if location:\n",
    "        row['latitude'] = location.latitude\n",
    "        row['longitude'] = location.longitude\n",
    "    else:\n",
    "        continue\n"
   ]
  },
  {
   "cell_type": "code",
   "execution_count": null,
   "id": "b286e720",
   "metadata": {},
   "outputs": [],
   "source": [
    "hour_df"
   ]
  },
  {
   "cell_type": "code",
   "execution_count": null,
   "id": "f0cdcc45",
   "metadata": {},
   "outputs": [],
   "source": [
    "hour_df.to_csv('')"
   ]
  },
  {
   "cell_type": "code",
   "execution_count": null,
   "id": "6eb627b2",
   "metadata": {},
   "outputs": [],
   "source": [
    "merged_df = pd.merge(hour_df, rate_df, on='Name')"
   ]
  },
  {
   "cell_type": "code",
   "execution_count": null,
   "id": "a58d3500",
   "metadata": {},
   "outputs": [],
   "source": [
    "merged_df.to_csv('merge.csv')"
   ]
  },
  {
   "cell_type": "code",
   "execution_count": null,
   "id": "1dd3614a",
   "metadata": {},
   "outputs": [],
   "source": [
    "import matplotlib.pyplot as plt\n",
    "\n",
    "plt.figure(figsize=(12, 10))\n",
    "\n",
    "plt.ylabel('Review count')\n",
    "plt.xlabel('Distance')\n",
    "plt.title('Review count vs Distance to downtown')\n",
    "\n",
    "plt.scatter( hour_df['latitude'], hour_df['longtitude'])\n",
    "\n",
    "\n",
    "# Add a color bar to show the mapping of values to colors\n",
    "color_bar = plt.colorbar()\n",
    "color_bar.set_label('Start Values')\n",
    "\n",
    "plt.show()"
   ]
  },
  {
   "cell_type": "code",
   "execution_count": null,
   "id": "3c44790c",
   "metadata": {},
   "outputs": [],
   "source": []
  }
 ],
 "metadata": {
  "kernelspec": {
   "display_name": "Python 3 (ipykernel)",
   "language": "python",
   "name": "python3"
  },
  "language_info": {
   "codemirror_mode": {
    "name": "ipython",
    "version": 3
   },
   "file_extension": ".py",
   "mimetype": "text/x-python",
   "name": "python",
   "nbconvert_exporter": "python",
   "pygments_lexer": "ipython3",
   "version": "3.10.13"
  }
 },
 "nbformat": 4,
 "nbformat_minor": 5
}
