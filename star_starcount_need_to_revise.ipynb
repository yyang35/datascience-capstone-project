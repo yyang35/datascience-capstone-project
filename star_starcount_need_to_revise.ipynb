{
 "cells": [
  {
   "cell_type": "code",
   "execution_count": null,
   "metadata": {
    "colab": {
     "base_uri": "https://localhost:8080/",
     "height": 1000
    },
    "id": "3h-pwwInUxjX",
    "outputId": "c66513ca-f33c-4597-903e-84f09084e8bc"
   },
   "outputs": [],
   "source": [
    "import pandas as pd\n",
    "from sklearn.preprocessing import MinMaxScaler\n",
    "import os\n",
    "\n",
    "import pandas as pd\n",
    "\n",
    "\n",
    "# Read the CSV file into a DataFrame\n",
    "df = pd.read_csv('Restaurants_Seattle.csv')\n",
    "\n",
    "\n",
    "\n",
    "from sklearn.preprocessing import MinMaxScaler\n",
    "\n",
    "# Normalize the data\n",
    "scaler = MinMaxScaler()\n",
    "df['Normalized_Ratings'] = scaler.fit_transform(df[['Star']])\n",
    "df['Normalized_Review_Count'] = scaler.fit_transform(df[['Stars_count']])\n",
    "\n",
    "print(df[['Normalized_Ratings', 'Normalized_Review_Count']])\n",
    "\n",
    "\n",
    "correlation = df['Normalized_Ratings'].corr(df['Normalized_Review_Count'])\n",
    "print(\"Correlation between Normalized Ratings and Normalized Review Counts:\", correlation)\n",
    "\n",
    "import matplotlib.pyplot as plt\n",
    "\n",
    "plt.figure(figsize=(8, 6))\n",
    "plt.scatter(df['Normalized_Ratings'], df['Normalized_Review_Count'], alpha=0.5)\n",
    "plt.title(\"Scatter Plot of Normalized Ratings vs. Normalized Review Counts\")\n",
    "plt.xlabel(\"Normalized Ratings\")\n",
    "plt.ylabel(\"Normalized Review Counts\")\n",
    "plt.grid(True)\n",
    "plt.show()\n"
   ]
  },
  {
   "cell_type": "code",
   "execution_count": null,
   "metadata": {
    "id": "Utf6r1_xdBU9"
   },
   "outputs": [],
   "source": [
    "\n",
    "#the above"
   ]
  },
  {
   "cell_type": "code",
   "execution_count": null,
   "metadata": {
    "colab": {
     "base_uri": "https://localhost:8080/",
     "height": 1000
    },
    "id": "vv5tL0mjeb0j",
    "outputId": "3010a749-98b0-40aa-9c33-2e89d1e097ff"
   },
   "outputs": [],
   "source": [
    "from google.colab import drive\n",
    "import pandas as pd\n",
    "import os\n",
    "import seaborn as sns\n",
    "\n",
    "drive.mount(\"/content/drive\", force_remount=True)\n",
    "drive_path = '/content/drive/My Drive'\n",
    "\n",
    "# List the files in the Google Drive directory\n",
    "files = os.listdir(drive_path)\n",
    "\n",
    "# Print the list of files\n",
    "print(files)\n",
    "\n",
    "# Read the CSV file into a DataFrame\n",
    "file_name = 'new_seattle_ratings.csv'\n",
    "file_path = \"/content/drive/My Drive/new seattle ratings.csv\"\n",
    "df = pd.read_csv(file_path)\n",
    "\n",
    "# Calculate the correlation between Ratings and Review Counts\n",
    "correlation = df['Star'].corr(df['Stars_count'])\n",
    "print(\"Correlation between Ratings and Review Counts:\", correlation)\n",
    "\n",
    "# Create a scatter plot\n",
    "import matplotlib.pyplot as plt\n",
    "\n",
    "plt.figure(figsize=(8, 6))\n",
    "plt.scatter(df['Star'], df['Stars_count'], alpha=0.5)\n",
    "plt.title(\"Scatter Plot of Ratings vs. Review Counts\")\n",
    "plt.xlabel(\"Ratings\")\n",
    "plt.ylabel(\"Review Counts\")\n",
    "plt.grid(True)\n",
    "plt.show()\n",
    "\n",
    "# Calculate the correlation between Ratings and Review Counts\n",
    "correlation = df['Star'].corr(df['Stars_count'])\n",
    "print(\"Correlation between Ratings and Review Counts:\", correlation)\n",
    "\n",
    "# Create a heatmap to visualize the correlation\n",
    "plt.figure(figsize=(8, 6))\n",
    "sns.heatmap(df[['Star', 'Stars_count']].corr(), annot=True, cmap='coolwarm', linewidths=.5)\n",
    "plt.title(\"Correlation Heatmap between Ratings and Review Counts\")\n",
    "plt.show()\n",
    "\n"
   ]
  },
  {
   "cell_type": "code",
   "execution_count": null,
   "metadata": {
    "colab": {
     "base_uri": "https://localhost:8080/",
     "height": 109
    },
    "id": "zHljqoUXf4Fk",
    "outputId": "3b47102b-2242-4ca5-8674-8e21c5daef33"
   },
   "outputs": [],
   "source": [
    "#A heatmap with a large square separated into four smaller squares likely indicates that there's a strong positive correlation between Ratings and Review Counts. The heatmap is showing the correlation matrix of these two variables. Here's how to interpret it:\n",
    "'''\n",
    "1. **Positive Correlation**: When you see a large square that's mostly a single color (e.g., warm colors like red or orange), it means that Ratings and Review Counts are positively correlated. In other words, when one variable goes up, the other tends to go up as well.\n",
    "\n",
    "2. **Strength of Correlation**: The intensity of the color in the square represents the strength of the correlation. The darker or more intense the color, the stronger the correlation.\n",
    "\n",
    "3. **Direction of Correlation**: The top-left and bottom-right squares typically represent self-correlations, where a variable is perfectly correlated with itself (correlation is 1). The top-right and bottom-left squares represent the correlation between Ratings and Review Counts. If they have the same color and intensity, it means the correlation is equally strong in both directions.\n",
    "\n",
    "4. **No Correlation**: If the squares were mostly a pale color (e.g., light yellow or pale blue), it would indicate a weaker or no correlation.\n",
    "\n",
    "In your case, a strong positive correlation suggests that as Ratings increase, Review Counts tend to increase as well, and vice versa. The heatmap confirms that these two variables move together. The exact value of the correlation coefficient can give you an idea of the strength, but the visual representation in the heatmap indicates the relationship.\n",
    "\n",
    "It's worth noting that this heatmap doesn't show causation; it only reveals the strength and direction of the statistical relationship between the two variables.###\n",
    "\n",
    "---\n",
    "\n",
    "\n",
    "If the heatmap displays a blue square between 'Star' and 'Stars_count' with a correlation coefficient of 0.031, it indicates a very weak positive correlation between these two variables. Here's how to interpret this result:\n",
    "\n",
    "1. **Weak Correlation**: The correlation coefficient of 0.031 is close to zero. In the context of correlation coefficients, values close to zero, whether positive or negative, suggest a weak relationship between the two variables.\n",
    "\n",
    "2. **Direction of Correlation**: Since the correlation coefficient is positive (0.031), it means there's a very weak positive correlation. This implies that as 'Star' (Ratings) increases slightly, 'Stars_count' (Review Counts) also tends to increase, but the relationship is extremely weak.\n",
    "\n",
    "3. **Blue Color**: The blue color in the heatmap represents this weak positive correlation, but the intensity of the color is quite light, indicating the weakness of the relationship.\n",
    "\n",
    "In practical terms, a correlation coefficient of 0.031 suggests that there is a very subtle tendency for higher Ratings to be associated with slightly higher Review Counts, but the relationship is so weak that it's unlikely to be practically significant. It's essential to interpret the correlation coefficient in the context of your specific data and research question.\n",
    "\n",
    "Remember that correlation does not imply causation. A weak correlation suggests that the two variables move together slightly, but it doesn't explain why this happens. Other factors might influence the relationship between Ratings and Review Counts.\n",
    "'''"
   ]
  },
  {
   "cell_type": "code",
   "execution_count": null,
   "metadata": {
    "colab": {
     "base_uri": "https://localhost:8080/"
    },
    "id": "iv224gZog77S",
    "outputId": "f7bea750-0574-41ff-d2b5-b42307e53732"
   },
   "outputs": [],
   "source": [
    "import pandas as pd\n",
    "from sklearn.linear_model import LinearRegression\n",
    "from sklearn.impute import SimpleImputer\n",
    "\n",
    "# Load your data into a Pandas DataFrame\n",
    "#df = pd.read_excel('your_data.xlsx')  # Replace 'your_data.xlsx' with your file name\n",
    "\n",
    "# Remove rows with 'n/a' values in both 'Star' and 'Stars_count' columns\n",
    "df = df[(df['Star'] != 'n/a') & (df['Stars_count'] != 'n/a')]\n",
    "\n",
    "# Use SimpleImputer to handle missing values in 'Stars_count'\n",
    "imputer_stars_count = SimpleImputer(strategy='mean')\n",
    "df['Stars_count'] = imputer_stars_count.fit_transform(df[['Stars_count']])\n",
    "\n",
    "# Use SimpleImputer to handle missing values in 'Star'\n",
    "imputer_star = SimpleImputer(strategy='mean')\n",
    "df['Star'] = imputer_star.fit_transform(df[['Star']])\n",
    "\n",
    "# Define your features (X) and target (y)\n",
    "X = df[['Star']]\n",
    "y = df['Stars_count']\n",
    "\n",
    "# Create the linear regression model and fit it\n",
    "model = LinearRegression()\n",
    "model.fit(X, y)\n",
    "\n",
    "new_star_value = 5  # Replace with the value you want to predict for\n",
    "predicted_review_count = model.predict([[new_star_value]])\n",
    "print(f\"Predicted Review Count for a Star value of {new_star_value}: {predicted_review_count[0]:.2f}\")\n"
   ]
  },
  {
   "cell_type": "code",
   "execution_count": null,
   "metadata": {
    "colab": {
     "base_uri": "https://localhost:8080/"
    },
    "id": "fcfV9IrkqLQo",
    "outputId": "91c3975a-474f-4713-f34c-199a72580a17"
   },
   "outputs": [],
   "source": [
    "import pandas as pd\n",
    "from sklearn.linear_model import LinearRegression\n",
    "from sklearn.impute import SimpleImputer\n",
    "\n",
    "\n",
    "# Remove rows with 'n/a' values in both 'Star' and 'Stars_count' columns\n",
    "df = df[(df['Star'] != 'n/a') & (df['Stars_count'] != 'n/a')]\n",
    "\n",
    "# Use SimpleImputer to handle missing values in 'Stars_count'\n",
    "imputer_stars_count = SimpleImputer(strategy='mean')\n",
    "df['Stars_count'] = imputer_stars_count.fit_transform(df[['Stars_count']])\n",
    "\n",
    "# Use SimpleImputer to handle missing values in 'Star'\n",
    "imputer_star = SimpleImputer(strategy='mean')\n",
    "df['Star'] = imputer_star.fit_transform(df[['Star']])\n",
    "\n",
    "# Define your features (X) and target (y)\n",
    "X = df[['Star']]\n",
    "y = df['Stars_count']\n",
    "\n",
    "# Create the linear regression model and fit it\n",
    "model = LinearRegression()\n",
    "model.fit(X, y)\n",
    "\n",
    "# Predict review counts for star values from 1 to 5\n",
    "for new_star_value in range(1, 6):\n",
    "    predicted_review_count = model.predict([[new_star_value]])\n",
    "    print(f\"Predicted Review Count for a Star value of {new_star_value}: {predicted_review_count[0]:.2f}\")\n"
   ]
  },
  {
   "cell_type": "code",
   "execution_count": null,
   "metadata": {
    "colab": {
     "base_uri": "https://localhost:8080/",
     "height": 747
    },
    "id": "u1J7xdKhv6mN",
    "outputId": "24c73246-070f-467c-e69f-6600a2d5765c"
   },
   "outputs": [],
   "source": [
    "import pandas as pd\n",
    "from sklearn.linear_model import LinearRegression\n",
    "from sklearn.impute import SimpleImputer\n",
    "import matplotlib.pyplot as plt\n",
    "\n",
    "# Load your data into a Pandas DataFrame\n",
    "#df = pd.read_excel('your_data.xlsx')  # Replace 'your_data.xlsx' with your file name\n",
    "\n",
    "# Remove rows with 'n/a' values in both 'Star' and 'Stars_count' columns\n",
    "df = df[(df['Star'] != 'n/a') & (df['Stars_count'] != 'n/a')]\n",
    "\n",
    "# Use SimpleImputer to handle missing values in 'Stars_count'\n",
    "imputer_stars_count = SimpleImputer(strategy='mean')\n",
    "df['Stars_count'] = imputer_stars_count.fit_transform(df[['Stars_count']])\n",
    "\n",
    "# Use SimpleImputer to handle missing values in 'Star'\n",
    "imputer_star = SimpleImputer(strategy='mean')\n",
    "df['Star'] = imputer_star.fit_transform(df[['Star']])\n",
    "\n",
    "# Define your features (X) and target (y)\n",
    "X = df[['Star']]\n",
    "y = df['Stars_count']\n",
    "\n",
    "# Create the linear regression model and fit it\n",
    "model = LinearRegression()\n",
    "model.fit(X, y)\n",
    "\n",
    "# Predict review counts for star values from 1 to 5\n",
    "star_values = list(range(1, 6))\n",
    "predicted_review_counts = [model.predict([[value]])[0] for value in star_values]\n",
    "\n",
    "plt.figure(figsize=(8, 6))\n",
    "\n",
    "\n",
    "plt.scatter(df['Star'], df['Stars_count'], alpha=0.5)\n",
    "# Create a line plot\n",
    "plt.plot(star_values, predicted_review_counts, color=\"red\", marker='o', linestyle='-')\n",
    "plt.title(\"Predicted Review Counts for Different Star Values\")\n",
    "plt.xlabel(\"Star Value\")\n",
    "plt.ylabel(\"Predicted Review Count\")\n",
    "plt.grid(True)\n",
    "plt.show()\n"
   ]
  },
  {
   "cell_type": "code",
   "execution_count": null,
   "metadata": {},
   "outputs": [],
   "source": []
  }
 ],
 "metadata": {
  "colab": {
   "provenance": []
  },
  "kernelspec": {
   "display_name": "Python 3",
   "name": "python3"
  },
  "language_info": {
   "codemirror_mode": {
    "name": "ipython",
    "version": 3
   },
   "file_extension": ".py",
   "mimetype": "text/x-python",
   "name": "python",
   "nbconvert_exporter": "python",
   "pygments_lexer": "ipython3",
   "version": "3.10.13"
  }
 },
 "nbformat": 4,
 "nbformat_minor": 0
}
