{
 "cells": [
  {
   "cell_type": "code",
   "execution_count": null,
   "metadata": {},
   "outputs": [],
   "source": [
    "import pandas as pd\n",
    "import numpy as np \n",
    "\n",
    "\n",
    "df = pd.read_csv('Restaurants_Seattle.csv')"
   ]
  },
  {
   "cell_type": "code",
   "execution_count": null,
   "metadata": {},
   "outputs": [],
   "source": [
    "df"
   ]
  },
  {
   "cell_type": "code",
   "execution_count": null,
   "metadata": {},
   "outputs": [],
   "source": [
    "df = df.dropna(subset=['Area'])"
   ]
  },
  {
   "cell_type": "code",
   "execution_count": null,
   "metadata": {},
   "outputs": [],
   "source": [
    "# Make a groupby the area, and calculate the average on the each area\n",
    "result = df.groupby('Area').agg({'Star': 'mean', 'Stars_count': 'mean'}).reset_index()\n"
   ]
  },
  {
   "cell_type": "code",
   "execution_count": null,
   "metadata": {},
   "outputs": [],
   "source": [
    "result"
   ]
  },
  {
   "cell_type": "code",
   "execution_count": null,
   "metadata": {},
   "outputs": [],
   "source": [
    "import numpy as np\n",
    "import matplotlib.pyplot as plt\n",
    "from scipy.optimize import curve_fit\n",
    "\n",
    "result = result.sort_values(by='Star', ascending=False)\n",
    "\n",
    "plt.figure(figsize=(18, 4))\n",
    "plt.ylim(3.25,5.25)\n",
    "plt.ylabel('Average rate')\n",
    "plt.bar(result['Area'], result['Star'], label='Average rate (Star)')\n",
    "plt.grid(True, linestyle='--', alpha=0.3)\n",
    "plt.title('Seattle Restaurant Average Rate Rank by Area')\n",
    "plt.xticks(rotation=45, ha=\"right\")\n",
    "plt.show()"
   ]
  },
  {
   "cell_type": "code",
   "execution_count": null,
   "metadata": {},
   "outputs": [],
   "source": [
    "import numpy as np\n",
    "import matplotlib.pyplot as plt\n",
    "from scipy.optimize import curve_fit\n",
    "\n",
    "result = result.sort_values(by='Stars_count', ascending=False)\n",
    "\n",
    "plt.figure(figsize=(18, 4))\n",
    "plt.ylabel('Star Count')\n",
    "plt.title('Seattle Restaurant Star Count Rank by Area')\n",
    "plt.bar(result['Area'], result['Stars_count'], label='Average Star')\n",
    "plt.grid(True, linestyle='--', alpha=0.3)\n",
    "plt.xticks(rotation=45, ha=\"right\")\n",
    "plt.show()"
   ]
  },
  {
   "cell_type": "code",
   "execution_count": null,
   "metadata": {},
   "outputs": [],
   "source": [
    "import matplotlib.pyplot as plt\n",
    "\n",
    "plt.figure(figsize=(12, 8))\n",
    "\n",
    "plt.ylabel('Star')\n",
    "plt.xlabel('Review count)')\n",
    "plt.title('Stars vs Review count ')\n",
    "plt.grid(True, linestyle='--')\n",
    "\n",
    "\n",
    "plt.scatter( df['Star'], df['Stars_count'])\n",
    "\n",
    "plt.show()"
   ]
  },
  {
   "cell_type": "code",
   "execution_count": null,
   "metadata": {},
   "outputs": [],
   "source": [
    "distance_slices = [0,1,2,4,8,16,100]\n",
    "df_sb['distance_km'] = df_sb['distance'] * 111\n",
    "\n",
    "# Loop through distance slices\n",
    "for i in range(len(distance_slices) - 1):\n",
    "    # Define the current distance range\n",
    "    min_distance = distance_slices[i]\n",
    "    max_distance = distance_slices[i + 1]\n",
    "    \n",
    "    # Filter the DataFrame for the current distance range\n",
    "    filtered_df = df_sb[(df_sb['distance_km'] >= min_distance) & (df_sb['distance_km'] < max_distance)]\n",
    "    \n",
    "    # Count the number of restaurants for each star rating in the filtered DataFrame\n",
    "    star_counts = filtered_df['stars'].value_counts().sort_index()\n",
    "    \n",
    "    params, covariance = curve_fit(gaussian, star_counts.index, star_counts.values)\n",
    "    A_fit, mu_fit, sigma_fit = params\n",
    "\n",
    "    x_fit = np.linspace(0, 6, 1000)\n",
    "    y_fit = gaussian(x_fit, A_fit, mu_fit, sigma_fit)\n",
    "\n",
    "\n",
    "    plt.figure(figsize=(8, 6))\n",
    "    plt.bar(star_counts.index, star_counts.values, tick_label=star_counts.index, width=0.6, align='center')\n",
    "    plt.plot(x_fit, y_fit, 'r-', label='Fitted Gaussian', linewidth=2)\n",
    "    plt.xlim(0.5, 5.3)\n",
    "    plt.xlabel('Star Rating')\n",
    "    plt.ylabel('Number of Restaurants')\n",
    "    plt.title(f'Restaurant Star Ratings ({min_distance} to {max_distance} km)')\n",
    "    plt.grid(True, linestyle='--', alpha=0.7)\n",
    "    plt.text(0, 10, f'mu: {mu_fit:.2f}, sigma: {sigma_fit:.2f}')\n",
    "    plt.show()"
   ]
  }
 ],
 "metadata": {
  "kernelspec": {
   "display_name": "Python 3 (ipykernel)",
   "language": "python",
   "name": "python3"
  },
  "language_info": {
   "codemirror_mode": {
    "name": "ipython",
    "version": 3
   },
   "file_extension": ".py",
   "mimetype": "text/x-python",
   "name": "python",
   "nbconvert_exporter": "python",
   "pygments_lexer": "ipython3",
   "version": "3.10.12"
  }
 },
 "nbformat": 4,
 "nbformat_minor": 2
}
