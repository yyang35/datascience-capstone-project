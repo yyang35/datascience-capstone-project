{
 "cells": [
  {
   "cell_type": "code",
   "execution_count": null,
   "metadata": {},
   "outputs": [],
   "source": [
    "import json\n",
    "import pandas as pd\n",
    "\n",
    "df = pd.read_csv(\"yelp_ml_master.csv\")"
   ]
  },
  {
   "cell_type": "code",
   "execution_count": null,
   "metadata": {},
   "outputs": [],
   "source": [
    "df.columns"
   ]
  },
  {
   "cell_type": "code",
   "execution_count": null,
   "metadata": {},
   "outputs": [],
   "source": [
    "df = df.dropna()"
   ]
  },
  {
   "cell_type": "code",
   "execution_count": null,
   "metadata": {},
   "outputs": [],
   "source": [
    "import pandas as pd\n",
    "import ast\n",
    "\n",
    "# Assuming 'df' is your DataFrame and it has a 'stars_y' column for ratings\n",
    "\n",
    "# Define a function to safely convert stringified lists to actual lists\n",
    "def string_to_list(string_list):\n",
    "    try:\n",
    "        return ast.literal_eval(string_list)\n",
    "    except ValueError:\n",
    "        # In case of an error, return an empty list\n",
    "        return []\n",
    "    except SyntaxError:\n",
    "        # Handle strings that are not in list format (e.g., single quotes missing)\n",
    "        return [string_list.strip(\"[]\").replace(\"'\", \"\").split(\", \")]\n",
    "\n",
    "# Apply the function to the entire 'categories_list' column\n",
    "df['categories_list'] = df['categories_list'].apply(string_to_list)\n"
   ]
  },
  {
   "cell_type": "code",
   "execution_count": null,
   "metadata": {},
   "outputs": [],
   "source": [
    "df['hours'] = df['hours'].apply(lambda x: ast.literal_eval(x) if isinstance(x, str) and x.startswith('{') and x.endswith('}') else x)"
   ]
  },
  {
   "cell_type": "code",
   "execution_count": null,
   "metadata": {},
   "outputs": [],
   "source": [
    "def time_to_minutes(time_str):\n",
    "    # Split the time string into hours and minutes\n",
    "    hours, minutes = map(int, time_str.split(':'))\n",
    "    # Convert hours to minutes and add to minutes\n",
    "    return hours * 60 + minutes\n"
   ]
  },
  {
   "cell_type": "code",
   "execution_count": null,
   "metadata": {},
   "outputs": [],
   "source": [
    "possible_keys = set()\n",
    "i = 0\n",
    "for hours in df['hours']:\n",
    "    print(hours)\n",
    "    for day, hour in hours.items():\n",
    "        str_list = hour.split('-')\n",
    "        time = time_to_minutes(str_list[1]) - time_to_minutes(str_list[0])\n",
    "        if time < 0:\n",
    "            time = time_to_minutes(str_list[1]) + 24 * 60 - time_to_minutes(str_list[0])\n",
    "            i += 1\n",
    "\n"
   ]
  },
  {
   "cell_type": "code",
   "execution_count": null,
   "metadata": {},
   "outputs": [],
   "source": [
    "import numpy as np"
   ]
  },
  {
   "cell_type": "code",
   "execution_count": null,
   "metadata": {},
   "outputs": [],
   "source": [
    "def get_total_time(row):\n",
    "    hours = row['hours']\n",
    "    total_time = []\n",
    "    for day, hour in hours.items():\n",
    "        str_list = hour.split('-')\n",
    "        time = time_to_minutes(str_list[1]) - time_to_minutes(str_list[0])\n",
    "        if time < 0:\n",
    "            time = time_to_minutes(str_list[1]) + 24 * 60 - time_to_minutes(str_list[0])\n",
    "        if time > 0 : total_time.append(time)\n",
    "    return np.sum(total_time)"
   ]
  },
  {
   "cell_type": "code",
   "execution_count": null,
   "metadata": {},
   "outputs": [],
   "source": [
    "def get_average_time(row):\n",
    "    hours = row['hours']\n",
    "    total_time = []\n",
    "    for day, hour in hours.items():\n",
    "        str_list = hour.split('-')\n",
    "        time = time_to_minutes(str_list[1]) - time_to_minutes(str_list[0])\n",
    "        if time < 0:\n",
    "            time = time_to_minutes(str_list[1]) + 24 * 60 - time_to_minutes(str_list[0])\n",
    "        if time > 0 : total_time.append(time)\n",
    "    return np.mean(total_time)"
   ]
  },
  {
   "cell_type": "code",
   "execution_count": null,
   "metadata": {},
   "outputs": [],
   "source": [
    "def get_is_overnight(row):\n",
    "    hours = row['hours']\n",
    "    total_time = []\n",
    "    for day, hour in hours.items():\n",
    "        str_list = hour.split('-')\n",
    "        time = time_to_minutes(str_list[1]) - time_to_minutes(str_list[0])\n",
    "        finish_time =  time_to_minutes(str_list[1]) + 24 * 60 if time < 0 else time_to_minutes(str_list[1])\n",
    "        if finish_time > 22 * 60: return True\n",
    "    return False"
   ]
  },
  {
   "cell_type": "code",
   "execution_count": null,
   "metadata": {},
   "outputs": [],
   "source": [
    "df['over_midnight'] = df.apply(get_is_overnight, axis=1)"
   ]
  },
  {
   "cell_type": "code",
   "execution_count": null,
   "metadata": {},
   "outputs": [],
   "source": [
    "df['total_time'] = df.apply(get_total_time, axis=1)\n",
    "df['mean_time'] = df.apply(get_average_time, axis=1)"
   ]
  },
  {
   "cell_type": "code",
   "execution_count": null,
   "metadata": {},
   "outputs": [],
   "source": [
    "df = df.dropna()"
   ]
  },
  {
   "cell_type": "code",
   "execution_count": null,
   "metadata": {},
   "outputs": [],
   "source": [
    "import matplotlib.pyplot as plt\n",
    "plt.scatter(df['mean_time'], df['stars_y'], s= 1, alpha= 0.2)"
   ]
  },
  {
   "cell_type": "code",
   "execution_count": null,
   "metadata": {},
   "outputs": [],
   "source": [
    "df_open['total_time'].corr(df['stars_y'])"
   ]
  },
  {
   "cell_type": "code",
   "execution_count": null,
   "metadata": {},
   "outputs": [],
   "source": [
    "plt.scatter(df_open['total_time'], df_open['stars_y'], s= 1, alpha= 0.2)"
   ]
  },
  {
   "cell_type": "code",
   "execution_count": null,
   "metadata": {},
   "outputs": [],
   "source": [
    "df_open = df[df['is_open'] == True]"
   ]
  },
  {
   "cell_type": "code",
   "execution_count": null,
   "metadata": {},
   "outputs": [],
   "source": [
    "df_open.columns"
   ]
  },
  {
   "cell_type": "code",
   "execution_count": null,
   "metadata": {},
   "outputs": [],
   "source": [
    "df_low = df[df['stars_x'] == 1]\n",
    "df_high = df[df['stars_x'] == 5]"
   ]
  },
  {
   "cell_type": "code",
   "execution_count": null,
   "metadata": {},
   "outputs": [],
   "source": [
    "from scipy.stats import ttest_ind\n",
    "t_stat, p_value = ttest_ind(df_low['mean_time'], df_high['mean_time'])\n",
    "print(f\"T-statistic: {t_stat}, P-value: {p_value}\")"
   ]
  },
  {
   "cell_type": "code",
   "execution_count": null,
   "metadata": {},
   "outputs": [],
   "source": []
  },
  {
   "cell_type": "code",
   "execution_count": null,
   "metadata": {},
   "outputs": [],
   "source": [
    "plt.hist(df_low['mean_time'])"
   ]
  },
  {
   "cell_type": "code",
   "execution_count": null,
   "metadata": {},
   "outputs": [],
   "source": [
    "plt.hist(df_high['mean_time'])"
   ]
  },
  {
   "cell_type": "code",
   "execution_count": null,
   "metadata": {},
   "outputs": [],
   "source": [
    "# Data\n",
    "mean_time_high = df_high['mean_time']\n",
    "mean_time_low = df_low['mean_time']\n",
    "\n",
    "# Histogram settings\n",
    "bins = np.histogram_bin_edges(mean_time_high, bins='auto')\n",
    "plt.hist(mean_time_high, bins=bins, alpha=0.5, label='High')\n",
    "plt.hist(mean_time_low, bins=bins, alpha=0.5, label='Low')\n",
    "\n",
    "# Adding labels and title\n",
    "plt.xlabel('Mean Time')\n",
    "plt.ylabel('Frequency')\n",
    "plt.title('Side-by-Side Histogram of Mean Time')\n",
    "plt.legend()\n",
    "\n",
    "# Display the plot\n",
    "plt.show()\n"
   ]
  },
  {
   "cell_type": "code",
   "execution_count": null,
   "metadata": {},
   "outputs": [],
   "source": [
    "# Data\n",
    "mean_time_high = df_high['mean_time']\n",
    "mean_time_low = df_low['mean_time']\n",
    "\n",
    "# Histogram settings with normalization\n",
    "bins = np.histogram_bin_edges(mean_time_high, bins='auto')\n",
    "plt.hist(mean_time_high, bins=bins, alpha=0.5, label='Avg.rate = 5', density=True)\n",
    "plt.hist(mean_time_low, bins=bins, alpha=0.5, label='Avg.rate = 1', density=True)\n",
    "\n",
    "# Adding labels and title\n",
    "plt.xlabel('Mean Time')\n",
    "plt.ylabel('Probability Density')\n",
    "plt.title('Normalized Side-by-Side Histogram of Mean Time')\n",
    "plt.legend()\n",
    "\n",
    "# Display the plot\n",
    "plt.show()\n"
   ]
  },
  {
   "cell_type": "code",
   "execution_count": null,
   "metadata": {},
   "outputs": [],
   "source": [
    "import matplotlib.pyplot as plt\n",
    "import numpy as np\n",
    "from scipy.stats import norm\n",
    "\n",
    "plt.figure(figsize=(10, 4))\n",
    "# Data\n",
    "mean_time_high = df_high['mean_time']\n",
    "mean_time_low = df_low['mean_time']\n",
    "\n",
    "# Histogram settings with normalization\n",
    "bins = np.histogram_bin_edges(mean_time_high, bins='auto')\n",
    "plt.hist(mean_time_high, bins=bins, alpha=0.5, label='Avg.rate = 5', density=True)\n",
    "plt.hist(mean_time_low, bins=bins, alpha=0.5, label='Avg.rate = 1', density=True)\n",
    "\n",
    "# Fit a Gaussian to the data\n",
    "mu_high, std_high = norm.fit(mean_time_high)\n",
    "mu_low, std_low = norm.fit(mean_time_low)\n",
    "\n",
    "# Plot the Gaussian fit\n",
    "xmin, xmax = plt.xlim()\n",
    "x = np.linspace(xmin, xmax, 100)\n",
    "p_high = norm.pdf(x, mu_high, std_high)\n",
    "p_low = norm.pdf(x, mu_low, std_low)\n",
    "\n",
    "plt.plot(x, p_high, '#0355E3', linewidth=2)\n",
    "plt.plot(x, p_low, '#FC5400', linewidth=2)\n",
    "\n",
    "# Adding labels and title\n",
    "plt.xlabel('Opening Hours / day')\n",
    "plt.ylabel('Probability Density')\n",
    "plt.title('Ditribution of Opending hours')\n",
    "\n",
    "# Display the plot\n",
    "plt.show()\n"
   ]
  },
  {
   "cell_type": "code",
   "execution_count": null,
   "metadata": {},
   "outputs": [],
   "source": [
    "df_day = df[df['over_midnight'] == False]\n",
    "df_night = df[df['over_midnight'] == True]\n",
    "\n",
    "df_day = df_day[df_day['is_open'] == True]\n",
    "df_night = df_night[df_night['is_open'] == True]"
   ]
  },
  {
   "cell_type": "code",
   "execution_count": null,
   "metadata": {},
   "outputs": [],
   "source": [
    "import matplotlib.pyplot as plt\n",
    "import numpy as np\n",
    "from scipy.stats import norm\n",
    "from matplotlib.font_manager import FontProperties\n",
    "import matplotlib.font_manager as fm\n",
    "\n",
    "\n",
    "# Data\n",
    "mean_time_high = df_day['stars_y']\n",
    "mean_time_low = df_night['stars_y']\n",
    "\n",
    "# Histogram settings with normalization\n",
    "bins = np.histogram_bin_edges(mean_time_high, bins='auto')\n",
    "plt.hist(mean_time_high, bins=bins, alpha=0.5, label= f'Only open in day', density=True)\n",
    "plt.hist(mean_time_low, bins=bins, alpha=0.5, label= f'Open in mid-night', density=True)\n",
    "\n",
    "# Fit a Gaussian to the data\n",
    "mu_high, std_high = norm.fit(mean_time_high)\n",
    "mu_low, std_low = norm.fit(mean_time_low)\n",
    "\n",
    "# Plot the Gaussian fit\n",
    "xmin, xmax = plt.xlim()\n",
    "x = np.linspace(xmin, xmax, 100)\n",
    "p_high = norm.pdf(x, mu_high, std_high)\n",
    "p_low = norm.pdf(x, mu_low, std_low)\n",
    "\n",
    "plt.plot(x, p_high, '#0355E3', linewidth=2)\n",
    "plt.plot(x, p_low, '#FC5400', linewidth=2)\n",
    "\n",
    "# Adding labels and title\n",
    "plt.xlabel('Average stars')\n",
    "plt.ylabel('Probability Density')\n",
    "plt.legend()\n",
    "\n",
    "# Display the plot\n",
    "plt.show()\n"
   ]
  },
  {
   "cell_type": "code",
   "execution_count": null,
   "metadata": {},
   "outputs": [],
   "source": [
    "import seaborn as sns\n",
    "import matplotlib.pyplot as plt\n",
    "\n",
    "# Example using seaborn's regplot\n",
    "sns.regplot( x=df['mean_time'], y=df['stars_y'], ci=99, scatter_kws={'s': 1, 'alpha': 0.5})\n",
    "\n",
    "# Adding labels, title, and legend\n",
    "plt.xlabel('Index')\n",
    "plt.ylabel('Mean Time')\n",
    "plt.title('Regression with Confidence Interval')\n",
    "plt.legend()\n",
    "\n",
    "# Display the plot\n",
    "plt.show()\n"
   ]
  },
  {
   "cell_type": "code",
   "execution_count": null,
   "metadata": {},
   "outputs": [],
   "source": [
    "sns.regplot"
   ]
  },
  {
   "cell_type": "code",
   "execution_count": null,
   "metadata": {},
   "outputs": [],
   "source": [
    "# Fitting a polynomial of degree 3\n",
    "polynomial_coefficients = np.polyfit(df['mean_time'], df['stars_y'], 3)\n",
    "polynomial = np.poly1d(polynomial_coefficients)\n",
    "\n",
    "# Generating x values and corresponding y values from the polynomial\n",
    "x_values = np.linspace(df['mean_time'].min(), df['mean_time'].max(), 100)\n",
    "y_values = polynomial(x_values)\n"
   ]
  },
  {
   "cell_type": "code",
   "execution_count": null,
   "metadata": {},
   "outputs": [],
   "source": [
    "df.columns"
   ]
  },
  {
   "cell_type": "code",
   "execution_count": null,
   "metadata": {},
   "outputs": [],
   "source": [
    "df['opening_hour'] = df['mean_time'] / 60"
   ]
  },
  {
   "cell_type": "code",
   "execution_count": null,
   "metadata": {},
   "outputs": [],
   "source": [
    "# Plotting the data and the polynomial fit\n",
    "sns.lmplot(x='distance', y='stars_y', data=df, order=2, ci=99.5, scatter_kws={'s': 0.1, 'alpha': 0.5, 'color': '#6B92D5'}, line_kws={'color': 'red', 'linewidth': 1})\n",
    "\n",
    "# Alternatively, using regplot with the polynomial line\n",
    "#sns.regplot(x=df['mean_time'], y=df['stars_y'], scatter_kws={'s': 0.5, 'alpha': 0.1}, fit_reg=False)\n",
    "\n",
    "# Adding labels and title\n",
    "plt.xlabel('Distance to Downtown (km)')\n",
    "plt.ylabel('Average Rating')\n",
    "\n",
    "plt.xlim(0,24.5)\n",
    "\n",
    "# Display the plot\n",
    "plt.show()\n"
   ]
  },
  {
   "cell_type": "code",
   "execution_count": null,
   "metadata": {},
   "outputs": [],
   "source": [
    "df.sort_values('mean_time')"
   ]
  },
  {
   "cell_type": "code",
   "execution_count": null,
   "metadata": {},
   "outputs": [],
   "source": []
  },
  {
   "cell_type": "code",
   "execution_count": null,
   "metadata": {},
   "outputs": [],
   "source": [
    "brand_counts = df.groupby(['name']).size().reset_index(name='count')"
   ]
  },
  {
   "cell_type": "code",
   "execution_count": null,
   "metadata": {},
   "outputs": [],
   "source": [
    "brand_counts.sort_values('count')"
   ]
  },
  {
   "cell_type": "code",
   "execution_count": null,
   "metadata": {},
   "outputs": [],
   "source": [
    "df = df.merge(brand_counts, on = 'name')"
   ]
  },
  {
   "cell_type": "code",
   "execution_count": null,
   "metadata": {},
   "outputs": [],
   "source": [
    "df['count'].corr(df['stars_y'])"
   ]
  },
  {
   "cell_type": "code",
   "execution_count": null,
   "metadata": {},
   "outputs": [],
   "source": [
    "import pandas as pd\n",
    "\n",
    "# Assuming 'df' is your DataFrame\n",
    "\n",
    "# Group by 'name' and calculate the average of 'stars_y'\n",
    "grouped_df = df.groupby('name')[['stars_y','count']].mean()\n",
    "\n",
    "# The result is a Series with the 'name' as the index and the average 'stars_y' as the value\n",
    "# If you want to convert it back to a DataFrame:\n",
    "grouped_df = grouped_df.reset_index()\n",
    "\n",
    "# Now 'grouped_df' is a DataFrame with two columns: 'name' and the average of 'stars_y'\n",
    "grouped_df = grouped_df[grouped_df['count'] > 100]\n",
    "plt.scatter(grouped_df['count'], grouped_df['stars_y'],  marker='^', alpha= 1, color = \"red\")\n",
    "plt.ylim(0,5)"
   ]
  },
  {
   "cell_type": "code",
   "execution_count": null,
   "metadata": {},
   "outputs": [],
   "source": [
    "df.columns"
   ]
  },
  {
   "cell_type": "code",
   "execution_count": null,
   "metadata": {},
   "outputs": [],
   "source": [
    "df['invest']"
   ]
  },
  {
   "cell_type": "code",
   "execution_count": null,
   "metadata": {},
   "outputs": [],
   "source": [
    "# Plotting the data and the polynomial fit\n",
    "sns.lmplot(x='count', y='review_count', data=df, order=2, ci=99.5, scatter_kws={'s': 1, 'alpha': 0.1, 'color': '#6B92D5'}, line_kws={'color': 'red', 'linewidth': 1})\n",
    "\n",
    "# Alternatively, using regplot with the polynomial line\n",
    "#sns.regplot(x=df['mean_time'], y=df['stars_y'], scatter_kws={'s': 0.5, 'alpha': 0.1}, fit_reg=False)\n",
    "#plt.scatter(grouped_df['count'], grouped_df['stars_y'],  marker='^', alpha= 1, color = \"red\")\n",
    "\n",
    "# Adding labels and title\n",
    "plt.xlabel('Number of resturant in the brand')\n",
    "plt.ylabel('Average star')\n",
    "\n",
    "# Display the plot\n",
    "plt.show()"
   ]
  },
  {
   "cell_type": "code",
   "execution_count": null,
   "metadata": {},
   "outputs": [],
   "source": []
  },
  {
   "cell_type": "code",
   "execution_count": null,
   "metadata": {},
   "outputs": [],
   "source": [
    "plt.figure(figsize=(6, 6))\n",
    "# Plotting the data and the polynomial fit\n",
    "sns.regplot(x='Count', y='AverageRating', data=category_stats_df, order=1, ci=95,scatter_kws={'s': 8, 'alpha': 1, 'color': '#3761A9'}, line_kws={'color': 'red', 'linewidth': 1})\n",
    "#plt.scatter(category_stats_df['Count'], category_stats_df['AverageRating'], color='#3761A9', s = 5)\n",
    "# Adding labels and title\n",
    "plt.xlabel('Number of resturant in the category')\n",
    "plt.ylabel('Average star') \n",
    "\n",
    "#plt.ylim(0.5, 5.5)\n",
    "# Display the plot\n",
    "plt.show()"
   ]
  },
  {
   "cell_type": "code",
   "execution_count": null,
   "metadata": {},
   "outputs": [],
   "source": [
    "df"
   ]
  },
  {
   "cell_type": "code",
   "execution_count": null,
   "metadata": {},
   "outputs": [],
   "source": [
    "brand_counts.sort_values('count')"
   ]
  },
  {
   "cell_type": "code",
   "execution_count": null,
   "metadata": {},
   "outputs": [],
   "source": [
    "brand_counts_filter = brand_counts[brand_counts['count'] > 150]"
   ]
  },
  {
   "cell_type": "code",
   "execution_count": null,
   "metadata": {},
   "outputs": [],
   "source": [
    "brand_counts_filter"
   ]
  },
  {
   "cell_type": "code",
   "execution_count": null,
   "metadata": {},
   "outputs": [],
   "source": [
    "brand_counts_average = df.groupby(['name']).size().reset_index(name='count')"
   ]
  },
  {
   "cell_type": "code",
   "execution_count": null,
   "metadata": {},
   "outputs": [],
   "source": [
    "df['categories_list'] "
   ]
  },
  {
   "cell_type": "code",
   "execution_count": null,
   "metadata": {},
   "outputs": [],
   "source": [
    "category_average_df = category_average.reset_index()"
   ]
  },
  {
   "cell_type": "code",
   "execution_count": null,
   "metadata": {},
   "outputs": [],
   "source": []
  },
  {
   "cell_type": "code",
   "execution_count": null,
   "metadata": {},
   "outputs": [],
   "source": [
    "\n",
    "# Now, you can explode the 'categories_list' column\n",
    "exploded_df = df.explode('categories_list')\n",
    "\n",
    "# Group by the individual categories and calculate the mean rating and count\n",
    "category_stats = exploded_df.groupby('categories_list')['stars_y'].agg(['mean', 'count'])\n",
    "\n",
    "# Convert the Series with multi-level columns to a DataFrame if needed\n",
    "category_stats_df = category_stats.reset_index()\n",
    "\n",
    "# Rename columns for clarity\n",
    "category_stats_df.columns = ['Category', 'AverageRating', 'Count']\n",
    "\n",
    "# Now 'category_stats_df' is a DataFrame with 'Category', 'AverageRating', and 'Count' as columns\n"
   ]
  },
  {
   "cell_type": "code",
   "execution_count": null,
   "metadata": {},
   "outputs": [],
   "source": [
    "\n",
    "# Now, you can explode the 'categories_list' column\n",
    "exploded_df = df.explode('categories_list')\n",
    "\n",
    "# Group by the individual categories and calculate the mean rating and count\n",
    "category_stats = exploded_df.groupby('categories_list')['review_count'].agg(['mean', 'count'])\n",
    "\n",
    "# Convert the Series with multi-level columns to a DataFrame if needed\n",
    "category_stats_df = category_stats.reset_index()\n",
    "\n",
    "# Rename columns for clarity\n",
    "category_stats_df.columns = ['Category', 'ReviewCountAverage', 'Count']\n",
    "\n",
    "# Now 'category_stats_df' is a DataFrame with 'Category', 'AverageRating', and 'Count' as columns"
   ]
  },
  {
   "cell_type": "code",
   "execution_count": null,
   "metadata": {},
   "outputs": [],
   "source": [
    "category_stats_df"
   ]
  },
  {
   "cell_type": "code",
   "execution_count": null,
   "metadata": {},
   "outputs": [],
   "source": [
    "plt.scatter(category_stats_df['Count'],category_stats_df['ReviewCountAverage'] )"
   ]
  },
  {
   "cell_type": "code",
   "execution_count": null,
   "metadata": {},
   "outputs": [],
   "source": [
    "category_stats_df.sort_values('Count')"
   ]
  },
  {
   "cell_type": "code",
   "execution_count": null,
   "metadata": {},
   "outputs": [],
   "source": [
    "category_stats_df = category_stats_df"
   ]
  },
  {
   "cell_type": "code",
   "execution_count": null,
   "metadata": {},
   "outputs": [],
   "source": [
    "category_stats_df = category_stats_df[category_stats_df['Count'] >  1500]\n",
    "category_stats_df = category_stats_df[category_stats_df['Count'] <  7370]\n"
   ]
  },
  {
   "cell_type": "code",
   "execution_count": null,
   "metadata": {},
   "outputs": [],
   "source": [
    "category_stats_df "
   ]
  },
  {
   "cell_type": "code",
   "execution_count": null,
   "metadata": {},
   "outputs": [],
   "source": [
    "category_stats_df = category_stats_df[category_stats_df['Count'] > 7370]"
   ]
  },
  {
   "cell_type": "code",
   "execution_count": null,
   "metadata": {},
   "outputs": [],
   "source": [
    "category_stats_df['Count'].corr(category_stats_df['AverageRating'])\n"
   ]
  },
  {
   "cell_type": "code",
   "execution_count": null,
   "metadata": {},
   "outputs": [],
   "source": [
    "category_stats_df['Count']"
   ]
  },
  {
   "cell_type": "code",
   "execution_count": null,
   "metadata": {},
   "outputs": [],
   "source": [
    "exploded_df['categories_list']"
   ]
  },
  {
   "cell_type": "code",
   "execution_count": null,
   "metadata": {},
   "outputs": [],
   "source": [
    "df_city = pd.read_csv(\"worldcities.csv\")"
   ]
  },
  {
   "cell_type": "code",
   "execution_count": null,
   "metadata": {},
   "outputs": [],
   "source": [
    "df_city "
   ]
  },
  {
   "cell_type": "code",
   "execution_count": null,
   "metadata": {},
   "outputs": [],
   "source": [
    "df_city = df_city[df_city['country'] == \"United States\"]"
   ]
  },
  {
   "cell_type": "code",
   "execution_count": null,
   "metadata": {},
   "outputs": [],
   "source": [
    "df_city "
   ]
  },
  {
   "cell_type": "code",
   "execution_count": null,
   "metadata": {},
   "outputs": [],
   "source": [
    "df = df.merge(df_city, on = \"city\")"
   ]
  },
  {
   "cell_type": "code",
   "execution_count": null,
   "metadata": {},
   "outputs": [],
   "source": [
    "df = df.rename(columns={'lat_y': 'lat_city', 'lng':\"lng_city\"})"
   ]
  },
  {
   "cell_type": "code",
   "execution_count": null,
   "metadata": {},
   "outputs": [],
   "source": [
    "df.columns"
   ]
  },
  {
   "cell_type": "code",
   "execution_count": null,
   "metadata": {},
   "outputs": [],
   "source": [
    "df['distance'] = np.sqrt((df['latitude'] - df['lat_city'] ) ** 2 + (df['longitude'] - df['lng_city'])**2) * 111"
   ]
  },
  {
   "cell_type": "code",
   "execution_count": null,
   "metadata": {},
   "outputs": [],
   "source": [
    "plt.scatter(df['distance'], df['stars_y'])"
   ]
  },
  {
   "cell_type": "code",
   "execution_count": null,
   "metadata": {},
   "outputs": [],
   "source": [
    "df.sort_values(\"distance\")"
   ]
  },
  {
   "cell_type": "code",
   "execution_count": null,
   "metadata": {},
   "outputs": [],
   "source": [
    "df_result['distance'].corr(df_result['stars_y'])"
   ]
  },
  {
   "cell_type": "code",
   "execution_count": null,
   "metadata": {},
   "outputs": [],
   "source": [
    "df.columns"
   ]
  },
  {
   "cell_type": "code",
   "execution_count": null,
   "metadata": {},
   "outputs": [],
   "source": [
    "import pandas as pd\n",
    "\n",
    "# Assuming df is your DataFrame\n",
    "# First, sort the DataFrame based on 'business_id' and 'distance' in descending order\n",
    "df_sorted = df.sort_values(by=['business_id', 'distance'], ascending=[True, True])\n",
    "\n",
    "# Then, group by 'business_id' and take the first entry of each group\n",
    "df_result = df_sorted.groupby('business_id').first().reset_index()\n",
    "\n",
    "# df_result now contains only one row for each business_id with the largest distance\n"
   ]
  },
  {
   "cell_type": "code",
   "execution_count": null,
   "metadata": {},
   "outputs": [],
   "source": [
    "df.columns"
   ]
  },
  {
   "cell_type": "code",
   "execution_count": null,
   "metadata": {},
   "outputs": [],
   "source": [
    "df.to_csv(\"relationship_data.csv\")"
   ]
  },
  {
   "cell_type": "code",
   "execution_count": null,
   "metadata": {},
   "outputs": [],
   "source": [
    "from scipy.stats import linregress\n",
    "cols = ['distance', 'me\\', 'population_city', 'count']\n",
    "\n",
    "for col in cols:\n",
    "    slope, intercept, r_value, p_value, std_err = linregress(df[col], df['stars_y'])\n",
    "    print(f\"{col}, {slope} {intercept} {r_value} {p_value} {std_err}\")\n",
    "    plt.figure(figsize=(6, 6))\n",
    "    # Plotting the data and the polynomial fit\n",
    "    sns.regplot(x='Count', y='AverageRating', data=category_stats_df, order=1, ci=95,scatter_kws={'s': 8, 'alpha': 1, 'color': '#3761A9'}, line_kws={'color': 'red', 'linewidth': 1})\n",
    "    #plt.scatter(category_stats_df['Count'], category_stats_df['AverageRating'], color='#3761A9', s = 5)\n",
    "    # Adding labels and title\n",
    "    plt.xlabel({col})\n",
    "    plt.ylabel('Average star') \n",
    "    plt.show()\n"
   ]
  },
  {
   "cell_type": "code",
   "execution_count": null,
   "metadata": {},
   "outputs": [],
   "source": [
    "for col in cols:\n",
    "    slope, intercept, r_value, p_value, std_err = linregress(df[col], df['stars_y'])\n",
    "    print(f\"{col}, {slope} {intercept} {r_value} {p_value} {std_err}\")"
   ]
  },
  {
   "cell_type": "code",
   "execution_count": null,
   "metadata": {},
   "outputs": [],
   "source": [
    "df.columns"
   ]
  },
  {
   "cell_type": "code",
   "execution_count": null,
   "metadata": {},
   "outputs": [],
   "source": [
    "df_filter = df[df['review_count'] > 100]\n",
    "\n",
    "for col in cols:\n",
    "    slope, intercept, r_value, p_value, std_err = linregress(df_filter[col], df_filter['stars_y'])\n",
    "    print(f\"{col}, {slope} {intercept} {r_value} {p_value} {std_err}\")"
   ]
  },
  {
   "cell_type": "code",
   "execution_count": null,
   "metadata": {},
   "outputs": [],
   "source": [
    "category_stats_df['Count'].corr(category_stats_df['Count'])\n",
    "\n",
    "slope, intercept, r_value, p_value, std_err = linregress(category_stats_df['opening_hour'], category_stats_df['ReviewCountAverage'])\n",
    "print(f\"{col}, {slope} {intercept} {r_value} {p_value} {std_err}\")"
   ]
  },
  {
   "cell_type": "code",
   "execution_count": null,
   "metadata": {},
   "outputs": [],
   "source": [
    "category_stats_df\n"
   ]
  },
  {
   "cell_type": "code",
   "execution_count": null,
   "metadata": {},
   "outputs": [],
   "source": [
    "plt.scatter(df['density'], df['stars_y'], s= 0.1)"
   ]
  },
  {
   "cell_type": "code",
   "execution_count": null,
   "metadata": {},
   "outputs": [],
   "source": [
    "df['density']"
   ]
  },
  {
   "cell_type": "code",
   "execution_count": null,
   "metadata": {},
   "outputs": [],
   "source": [
    "df.columns"
   ]
  },
  {
   "cell_type": "code",
   "execution_count": null,
   "metadata": {},
   "outputs": [],
   "source": []
  }
 ],
 "metadata": {
  "kernelspec": {
   "display_name": "cse481",
   "language": "python",
   "name": "python3"
  },
  "language_info": {
   "codemirror_mode": {
    "name": "ipython",
    "version": 3
   },
   "file_extension": ".py",
   "mimetype": "text/x-python",
   "name": "python",
   "nbconvert_exporter": "python",
   "pygments_lexer": "ipython3",
   "version": "3.10.13"
  }
 },
 "nbformat": 4,
 "nbformat_minor": 2
}
